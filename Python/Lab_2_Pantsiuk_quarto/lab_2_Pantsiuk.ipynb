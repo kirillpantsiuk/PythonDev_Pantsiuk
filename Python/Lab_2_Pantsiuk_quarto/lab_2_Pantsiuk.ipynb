{
 "cells": [
  {
   "cell_type": "code",
   "execution_count": null,
   "id": "408049a0-fd19-442c-8b03-063be2b86c96",
   "metadata": {},
   "outputs": [],
   "source": []
  },
  {
   "cell_type": "markdown",
   "id": "f7412e70-3248-4194-b9b9-83829bbb8028",
   "metadata": {},
   "source": [
    "\"Лабораторна робота №2. Функція `print()`\"\n",
    "--\n",
    "Документ зроблено за допомогою [Quarto](https://quarto.org/)\n",
    "--\n",
    "author: \"&copy; [<span style='color: blue;'>Pantsiuk Kyrylo </span>](https://github.com/kirillpantsiuk), 2024\"\n",
    "date: \"09.10.2024\"\n",
    "---"
   ]
  },
  {
   "cell_type": "markdown",
   "id": "962acdce-fd69-4213-aae3-825582068791",
   "metadata": {},
   "source": [
    "__Мета:__ _навчитися писати і запускати найпростіші програми на Python з використанням функції `print()`_"
   ]
  },
  {
   "cell_type": "markdown",
   "id": "eea9cea3-82c1-4112-8393-119dff614c92",
   "metadata": {},
   "source": [
    "::: {.callout-note}\n",
    "# Примітка\n",
    "Перед виконанням лабораторної роботи необхідно опрацювати матеріал _Лекції 2._\n",
    ":::"
   ]
  },
  {
   "cell_type": "markdown",
   "id": "652eb855-e9e5-4b7d-8c11-bb5f3ca312ba",
   "metadata": {},
   "source": [
    "::: {.callout-note}\n",
    "## Примітка\n",
    "У лабораторній роботі використано матеріали [python institute.](https://pythoninstitute.org/pcep) \n",
    ":::"
   ]
  },
  {
   "cell_type": "markdown",
   "id": "6c52dde8-b3d7-445d-a252-87862bd6be37",
   "metadata": {},
   "source": [
    "#### Що ви будете вміти?\n",
    "* використовувати функцію `print()` Python.\n",
    "* писати, выдлагоджувати та запускати прогарми на Python у середовищі IDE Visual Studio 2022.\n",
    "* обчислювати математичні вирази з використанням математичних операцій."
   ]
  },
  {
   "cell_type": "markdown",
   "id": "67adf03f-41e0-4534-a41e-3793733a1957",
   "metadata": {},
   "source": [
    "## Функція `print()`"
   ]
  },
  {
   "cell_type": "markdown",
   "id": "fc0c7d81-df5d-46a0-85c4-0d5cef63eced",
   "metadata": {},
   "source": [
    "Розглянемо можливості функції `print()`, виконавши низку прикладів.\n",
    "\n",
    "1. Змінити код програми, щоби очикуваний результат виглядав наступним чином:"
   ]
  },
  {
   "cell_type": "markdown",
   "id": "70ea08c8-090e-4bc6-accd-7b6930b09ec2",
   "metadata": {},
   "source": [
    "`Programming***Essentials***in...Python`"
   ]
  },
  {
   "cell_type": "code",
   "execution_count": 2,
   "id": "92d69978-184f-409a-9f9f-e5a2c5208319",
   "metadata": {},
   "outputs": [
    {
     "name": "stdout",
     "output_type": "stream",
     "text": [
      "Programming Essential in\n",
      "Python\n"
     ]
    }
   ],
   "source": [
    "print(\"Programming\", \"Essential\", \"in\")\n",
    "print(\"Python\")"
   ]
  },
  {
   "cell_type": "markdown",
   "id": "238de3e5-a3fd-4c8f-9e36-9a2af1c418c5",
   "metadata": {},
   "source": [
    "# Завдання 1\n",
    "### Результат"
   ]
  },
  {
   "cell_type": "code",
   "execution_count": 87,
   "id": "2dce5922-2a3a-4b99-9101-9e43e35a96a6",
   "metadata": {},
   "outputs": [
    {
     "name": "stdout",
     "output_type": "stream",
     "text": [
      "Programming***Essentials***in...Python\n",
      "Python\n"
     ]
    }
   ],
   "source": [
    "# Завданння 1\n",
    "# Вивести перший рядок з необхідним форматуванням\n",
    "print(\"Programming***Essentials***in...Python\")\n",
    "\n",
    "# Вивести другий рядок\n",
    "print(\"Python\")\n"
   ]
  },
  {
   "cell_type": "markdown",
   "id": "7ee4af7e-a2c5-4a31-bd81-4a41b5d7b3e5",
   "metadata": {},
   "source": [
    "2. Написати програму, яка виводила б на екран наступну картинку:"
   ]
  },
  {
   "attachments": {
    "image.png": {
     "image/png": "[encoded data removed]"
    }
   },
   "cell_type": "markdown",
   "id": "9d5f6204-f522-4ace-8acd-98d80be3ae93",
   "metadata": {},
   "source": [
    "![](attachment:image.png)"
   ]
  },
  {
   "cell_type": "markdown",
   "id": "d255ddb6-8140-4b10-9bd0-5a5010e1aad8",
   "metadata": {},
   "source": [
    "# Завдання 2\n",
    "### Результат"
   ]
  },
  {
   "cell_type": "code",
   "execution_count": 94,
   "id": "af28acc6-eefe-4b2d-a247-e66aebb1098a",
   "metadata": {},
   "outputs": [
    {
     "name": "stdout",
     "output_type": "stream",
     "text": [
      "      *      \n",
      "     ***     \n",
      "    *****    \n",
      "   *******   \n",
      "  *********  \n",
      " *********** \n",
      "*************\n",
      "   *******   \n",
      "   *******   \n",
      "   *******   \n"
     ]
    }
   ],
   "source": [
    "# Функція для відображення верхньої частини стрілки\n",
    "def draw_arrow_head(max_width):\n",
    "    # Проходимо по непарних числах для створення рядків стрілки\n",
    "    for i in range(1, max_width + 1, 2):\n",
    "        # Обчислюємо кількість пробілів для вирівнювання стрілки по центру\n",
    "        spaces = (max_width - i) // 2\n",
    "        # Виводимо пробіли та зірочки для кожного рівня стрілки\n",
    "        print(\" \" * spaces + \"*\" * i + \" \" * spaces)\n",
    "\n",
    "# Функція для відображення основи стрілки\n",
    "def draw_arrow_base(base_width, height):\n",
    "    # Проходимо по кількості рядків основи\n",
    "    for _ in range(height):\n",
    "        # Обчислюємо кількість пробілів для вирівнювання основи по центру\n",
    "        spaces = (base_width // 2)\n",
    "        # Виводимо пробіли та зірочки для кожного рядка основи\n",
    "        print(\" \" * spaces + \"*\" * base_width + \" \" * spaces)\n",
    "\n",
    "# Основна функція для відображення всієї стрілки\n",
    "def draw_wide_arrow():\n",
    "    max_width = 13  # Максимальна ширина верхньої частини стрілки\n",
    "    base_width = 7  # Ширина основи стрілки\n",
    "    base_height = 3  # Висота основи (кількість рядків)\n",
    "\n",
    "    draw_arrow_head(max_width)  # Викликаємо функцію для верхньої частини стрілки\n",
    "    draw_arrow_base(base_width, base_height)  # Викликаємо функцію для основи стрілки\n",
    "\n",
    "# Виклик основної функції для відображення стрілки\n",
    "draw_wide_arrow()\n"
   ]
  },
  {
   "cell_type": "markdown",
   "id": "eb98662a-1244-4263-9f2e-ed1c4c17d6db",
   "metadata": {},
   "source": [
    "# Варіант 2"
   ]
  },
  {
   "cell_type": "code",
   "execution_count": 96,
   "id": "4dd793fc-7ac4-433e-a019-d8d59eaa12d1",
   "metadata": {},
   "outputs": [
    {
     "name": "stdout",
     "output_type": "stream",
     "text": [
      "      **      \n",
      "     *  *     \n",
      "    *    *    \n",
      "   *      *   \n",
      "  *        *  \n",
      " *          * \n",
      "      **      \n",
      "      **      \n",
      "      **      \n",
      "      **      \n"
     ]
    }
   ],
   "source": [
    "# Функция для отображения пустой внутри стрелки с контуром и пустым основанием\n",
    "def draw_hollow_arrow():\n",
    "    print(\"      **      \")\n",
    "    print(\"     *  *     \")\n",
    "    print(\"    *    *    \")\n",
    "    print(\"   *      *   \")\n",
    "    print(\"  *        *  \")\n",
    "    print(\" *          * \")\n",
    "    print(\"      **      \")\n",
    "    print(\"      **      \")\n",
    "    print(\"      **      \")\n",
    "    print(\"      **      \")\n",
    "\n",
    "# Вызов функции для отображения стрелки\n",
    "draw_hollow_arrow()\n"
   ]
  },
  {
   "cell_type": "markdown",
   "id": "f3a8d07d-44fa-4f6a-b5ec-b3f6de5bff43",
   "metadata": {},
   "source": [
    "3. Вивести на екран наступний рядок:"
   ]
  },
  {
   "cell_type": "markdown",
   "id": "3b996648-4872-441c-87b5-3e2058eb14f5",
   "metadata": {},
   "source": [
    "`I'm student`"
   ]
  },
  {
   "cell_type": "markdown",
   "id": "d8d5e400-f4dc-41c5-9fb6-609910c9a66f",
   "metadata": {},
   "source": [
    "# Завдання 3\n",
    "### Результат"
   ]
  },
  {
   "cell_type": "code",
   "execution_count": 100,
   "id": "72063da7-0a0c-4141-8763-8e2bc71cc258",
   "metadata": {},
   "outputs": [
    {
     "name": "stdout",
     "output_type": "stream",
     "text": [
      " I'm student\n"
     ]
    }
   ],
   "source": [
    "print(\" I'm student\")\n",
    "\n"
   ]
  },
  {
   "cell_type": "markdown",
   "id": "bf90341d-65cd-4ecb-bcbd-0b5b75602bbf",
   "metadata": {},
   "source": [
    "4. Написати фрагмент кода в один рядок, використовуючи функцію `print()`, а також символи нового рядка та esсape-символи, щоби відповідати очикуваному результату, виведеному у трьох рядках: "
   ]
  },
  {
   "attachments": {
    "image-2.png": {
     "image/png": "[encoded data removed]"
    }
   },
   "cell_type": "markdown",
   "id": "7ba74a13-e36f-4317-a0c3-9ecf8d748588",
   "metadata": {},
   "source": [
    "![](attachment:image-2.png)"
   ]
  },
  {
   "cell_type": "markdown",
   "id": "72b06097-fba6-4284-a34f-4ca6c5754bf8",
   "metadata": {},
   "source": [
    "# Завдання 4\n",
    "### Результат"
   ]
  },
  {
   "cell_type": "code",
   "execution_count": 106,
   "id": "0210117c-8c00-454d-935d-2eb22e4d7e57",
   "metadata": {},
   "outputs": [
    {
     "name": "stdout",
     "output_type": "stream",
     "text": [
      "I'm\n",
      "learning\n",
      "Python\n"
     ]
    }
   ],
   "source": [
    "\n",
    "print(\"I'm\\nlearning\\nPython\")"
   ]
  },
  {
   "cell_type": "markdown",
   "id": "e9ee226a-8d24-4b9f-b65d-f00d400d401d",
   "metadata": {},
   "source": [
    "5. Чому в десятковій системі дорівнює $500_8$? Написати код на Python."
   ]
  },
  {
   "cell_type": "code",
   "execution_count": 110,
   "id": "9e9c64ef-b332-40ce-8f8f-c3c5e011a440",
   "metadata": {},
   "outputs": [
    {
     "name": "stdout",
     "output_type": "stream",
     "text": [
      "The octal number 500_8 is 320 in the decimal system.\n"
     ]
    }
   ],
   "source": [
    "# Convert octal number 500 to decimal\n",
    "octal_number = \"500\"\n",
    "decimal_number = int(octal_number, 8)  # Convert from base 8 to base 10\n",
    "\n",
    "# Output the result\n",
    "print(f\"The octal number {octal_number}_8 is {decimal_number} in the decimal system.\")\n"
   ]
  },
  {
   "cell_type": "markdown",
   "id": "ae3e36b4-1abe-4c64-96e3-a67dbc24ce05",
   "metadata": {},
   "source": [
    "6. Чому в десятковій системі дорівнює $777_{16}$? Написати код на Python."
   ]
  },
  {
   "cell_type": "code",
   "execution_count": 114,
   "id": "64b86465-ad4d-4afc-b0d4-5e4cef7bb6e7",
   "metadata": {},
   "outputs": [
    {
     "name": "stdout",
     "output_type": "stream",
     "text": [
      "Число 777_16 дорівнює 1911 в десятковій системі.\n"
     ]
    }
   ],
   "source": [
    "# Перетворення числа 777 з шістнадцяткової системи в десяткову\n",
    "hex_number = \"777\"  # Шістнадцяткове число у вигляді рядка\n",
    "decimal_number = int(hex_number, 16)  # Перетворення у десяткову систему\n",
    "\n",
    "# Виведення результату\n",
    "print(f\"Число {hex_number}_16 дорівнює {decimal_number} в десятковій системі.\")\n"
   ]
  },
  {
   "cell_type": "code",
   "execution_count": null,
   "id": "1951d7d6-a7f3-4a4f-9787-4e479c11c181",
   "metadata": {},
   "outputs": [],
   "source": []
  },
  {
   "cell_type": "markdown",
   "id": "f608efb7-8695-4c9f-af9d-49f29377c5cf",
   "metadata": {},
   "source": [
    "## Відповіді на контрольні запитання\n",
    "\n",
    "1. Записати ієрархію операторів.\n",
    "\n",
    "1. Що робить escape-символ \\n при виводі на екран функцією `print()`?"
   ]
  },
  {
   "cell_type": "markdown",
   "id": "9292bb2a-06f8-4169-b9b4-e5166e0fab10",
   "metadata": {},
   "source": [
    "### Ієрархія операторів\n",
    "\n",
    "Ієрархія операторів в Python визначає порядок, в якому оператори виконуються у виразах. Нижче наведено ієрархію операторів від найвищого до найнижчого пріоритету:\n",
    "\n",
    "1. **Дужки** `()` - для зміни порядку виконання.\n",
    "2. **Оператори для доступу до атрибутів і виклику функцій** `.`, `[]`, `()`\n",
    "3. **Оператори унарних плюсів і мінусів, а також оператори `not`** `+`, `-`, `~`, `not`\n",
    "4. **Оператори множення, ділення, залишку та підняття до ступеня** `*`, `/`, `%`, `//`, `**`\n",
    "5. **Оператори додавання і віднімання** `+`, `-`\n",
    "6. **Оператори зсуву** `<<`, `>>`\n",
    "7. **Оператори порівняння** `==`, `!=`, `<`, `>`, `<=`, `>=`\n",
    "8. **Оператори логічного `and` та `or`** `and`, `or`\n",
    "9. **Оператор присвоєння** `=`, `+=`, `-=`, `*=`, `/=`, `//=`, `%=` і інші\n",
    "10. **Оператори `is` і `is not`** `is`, `is not`\n",
    "11. **Оператори `in` і `not in`** `in`, `not in`\n",
    "\n",
    "### Escape-символи при виводі на екран функцією `print()`\n",
    "\n",
    "Escape-символи в Python використовуються для введення спеціальних символів у рядках, які не можуть бути введені безпосередньо. При виводі на екран функцією `print()`, вони дозволяють форматувати рядки або включати спеціальні символи. Ось кілька основних escape-символів:\n",
    "\n",
    "- `\\n` — новий рядок\n",
    "- `\\t` — табуляція\n",
    "- `\\\\` — зворотний слеш\n",
    "- `\\\"` — лапка (внутрішні лапки для рядка, обгорнутого лапками)\n",
    "- `\\'` — одинарна лапка (внутрішні лапки для рядка, обгорнутого одинарними лапками)\n",
    "- `\\r` — повернення каретки (перехід до початку рядка)\n",
    "\n",
    "Наприклад, використання escape-символів у функції `print()`:\n",
    "\n",
    "\n",
    "print(\"Hello\\nWorld!\")  \n",
    "# Виведе:\n",
    "# Hello\n",
    "# World!\n",
    "\n",
    "print(\"Tab\\tSpace\") \n",
    "# Виведе:\n",
    "# Tab    Space\n",
    "\n",
    "print(\"This is a backslash: \\\\\")  \n",
    "# Виведе:\n",
    "# This is a backslash: \\\n",
    "\n",
    "print(\"He said, \\\"Python is great!\\\"\")  # Виведе:\n",
    "# He said, \"Python is great!\"\n"
   ]
  },
  {
   "cell_type": "markdown",
   "id": "81a95e37-66bc-4e8d-b961-ab1f6f5273d3",
   "metadata": {},
   "source": [
    "## Відповіді на контрольні запитання\n",
    "\n",
    "1. Записати ієрархію операторів.\n",
    "\n",
    "1. Записти на Python обчислення виразу $3^{3^4}$\n",
    "\n",
    "1. Що робить escape-символ \\n при виводі на екран функцією `print()`?"
   ]
  },
  {
   "cell_type": "code",
   "execution_count": 124,
   "id": "e86fd0e9-05d3-4a5e-a319-3f4c69d445d4",
   "metadata": {},
   "outputs": [
    {
     "name": "stdout",
     "output_type": "stream",
     "text": [
      "The result of 3^(3^4) is 443426488243037769948249630619149892803.\n"
     ]
    }
   ],
   "source": [
    "###Завдання 3\n",
    "# Обчислення виразу 3^(3^4)\n",
    "result = 3 ** (3 ** 4)\n",
    "\n",
    "\n",
    "# Виведення результату\n",
    "print(f\"The result of 3^(3^4) is {result}.\")\n"
   ]
  },
  {
   "cell_type": "markdown",
   "id": "0b8a5d41-f4d0-4c5e-94b4-f0e7f1ebb4da",
   "metadata": {},
   "source": [
    "# Висновок \n",
    "В даній лабораторній роботі ми навчилися обраховувати найпростіші математичні операції також ознайомилися з різними можливостями виводу функції _print()_"
   ]
  },
  {
   "cell_type": "markdown",
   "id": "4ed94d99-f046-4762-96bb-af8315249fc5",
   "metadata": {},
   "source": [
    "## References"
   ]
  },
  {
   "cell_type": "markdown",
   "id": "d958530b-2dff-433c-9a49-6edfc0537327",
   "metadata": {},
   "source": [
    "1. [Anaconda (Python distribution)](https://uk.wikipedia.org/wiki/Anaconda_(Python_distribution))\n",
    "2. [Conda](https://conda.io/en/latest/)\n",
    "3. [Pro Git Book](https://git-scm.com/book/en/v2)\n",
    "4. [OpenEDG Python Institute](https://pythoninstitute.org/)\n",
    "5. [Cisco. Networking Academy](https://www.netacad.com/) \n",
    "6. [ЧТО ТАКОЕ ЯП PYTHON? УСТАНОВКА ПАЙТОНА НА WINDOWS 11 !](https://www.youtube.com/watch?v=nQMddf_6KoM&list=PLV0FNhq3XMOKljD7POtuWVAZn8wXcn4-L)\n",
    "   "
   ]
  },
  {
   "cell_type": "code",
   "execution_count": null,
   "id": "59c1dd57-44b1-4cd7-bd4e-498cbe797cca",
   "metadata": {},
   "outputs": [],
   "source": []
  }
 ],
 "metadata": {
  "kernelspec": {
   "display_name": "Python 3 (ipykernel)",
   "language": "python",
   "name": "python3"
  },
  "language_info": {
   "codemirror_mode": {
    "name": "ipython",
    "version": 3
   },
   "file_extension": ".py",
   "mimetype": "text/x-python",
   "name": "python",
   "nbconvert_exporter": "python",
   "pygments_lexer": "ipython3",
   "version": "3.12.4"
  }
 },
 "nbformat": 4,
 "nbformat_minor": 5
}
