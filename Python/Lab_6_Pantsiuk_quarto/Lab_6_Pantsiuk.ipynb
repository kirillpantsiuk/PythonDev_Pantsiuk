{
 "cells": [
  {
   "cell_type": "markdown",
   "id": "2c61fc83-6785-493d-84a5-8409143d3bbe",
   "metadata": {},
   "source": [
    "---\n",
    "title: \"Лабораторна робота №6. Функції\"\n",
    "description:\n",
    "  Документ зроблено за допомогою [Quarto](https://quarto.org/)\n",
    "author: \"&copy; [<span style='color: blue;'>Pantsiuk Kyrylo </span>](https://github.com/kirillpantsiuk), 2024\"\n",
    "date: \"10.08.2024\"\n",
    "format:\n",
    "  html:\n",
    "    toc: true                  # Включаем оглавление\n",
    "    toc-title: \"Table of contents\"  # Название меню\n",
    "    toc-depth: 2               # Глубина уровней заголовков (2 уровня в данном случае)\n",
    "    toc-location: right         # Расположение меню (слева)\n",
    "---"
   ]
  },
  {
   "cell_type": "markdown",
   "id": "f15533bb-705d-4ec7-a673-2e3c465dfeab",
   "metadata": {},
   "source": [
    "__Мета:__ _навчитися писати функції та користуватися ними_"
   ]
  },
  {
   "cell_type": "markdown",
   "id": "38ae8956-0da3-41ce-ae84-f60ba49401bc",
   "metadata": {},
   "source": [
    "::: callout-tip\n",
    "## Примітка\n",
    "Попередньо потрібно опрацювати лекцію 6.\n",
    ":::"
   ]
  },
  {
   "cell_type": "markdown",
   "id": "457121c3-28a7-47ca-b40c-6fbce8675f17",
   "metadata": {},
   "source": [
    "::: callout-tip\n",
    "## Примітка\n",
    "У лабораторній роботі використано матеріали [python institute.](https://pythoninstitute.org/pcep) \n",
    ":::"
   ]
  },
  {
   "cell_type": "markdown",
   "id": "83acc3cc-a604-42da-9b7e-a24fab46a2ef",
   "metadata": {
    "tags": []
   },
   "source": [
    "## Що ви будете вміти?\n",
    "* створювати користувацькі функції.\n",
    "* викликати користувацькі функції з параметрами та без.\n",
    "* освоїте обробку списків за допомогою функцій."
   ]
  },
  {
   "cell_type": "markdown",
   "id": "99785e8d-a7a9-4ed0-b203-bb4aa40f91d5",
   "metadata": {},
   "source": [
    "## Створення функції"
   ]
  },
  {
   "cell_type": "markdown",
   "id": "2438e8db-7a53-457d-8036-25bd8e3e4780",
   "metadata": {},
   "source": [
    "Приклад функції з одним параметром і без ключового слова `return`:"
   ]
  },
  {
   "cell_type": "code",
   "execution_count": 2,
   "id": "9adc8f2d-56a8-4ec5-a4e7-96fbdfc093e3",
   "metadata": {},
   "outputs": [
    {
     "name": "stdout",
     "output_type": "stream",
     "text": [
      "Hi, Greg\n"
     ]
    }
   ],
   "source": [
    "def hi(name):\n",
    "    print(\"Hi,\", name)\n",
    "\n",
    "hi(\"Greg\")"
   ]
  },
  {
   "cell_type": "markdown",
   "id": "e7bb942e-fd65-4401-8d64-0f0cddda3625",
   "metadata": {},
   "source": [
    "Приклад функції з ключовим словом `return`:"
   ]
  },
  {
   "cell_type": "code",
   "execution_count": 3,
   "id": "a3cb0e28-b6b4-4082-9945-e84001cd6d95",
   "metadata": {},
   "outputs": [
    {
     "name": "stdout",
     "output_type": "stream",
     "text": [
      "True\n",
      "None\n"
     ]
    }
   ],
   "source": [
    "def strange_function(n):\n",
    "    if(n % 2 == 0):\n",
    "        return True\n",
    "\n",
    "print(strange_function(2))\n",
    "print(strange_function(1))\n",
    "    \n",
    "    "
   ]
  },
  {
   "cell_type": "markdown",
   "id": "ccab0b55-7bae-4ead-902e-4d29c0af8160",
   "metadata": {},
   "source": [
    "## Завдання 1\n",
    "\n",
    "Написати і протестувати функцію, яка приймає один аргумент (рік) і повертає `True`, якщо рік є високосним, або `False` інакше.\n",
    "\n",
    "Основу функції вже закладено у коді в редакторі.\n",
    "\n",
    "::: callout-tip\n",
    "## Примітка\n",
    "Для вас підготовлено короткий тестуючий код, який можна використовувати для перевірки своєї функції.\n",
    ":::\n",
    "\n",
    "У коді використовуються два списки - один із тестовими даними, інший - з очікуваними результатами. Код повідомить Вам, якщо якісь із Ваших результатів неправильні."
   ]
  },
  {
   "cell_type": "code",
   "execution_count": 22,
   "id": "1127ab3a-22cc-4f0b-b40f-412272420937",
   "metadata": {},
   "outputs": [
    {
     "name": "stdout",
     "output_type": "stream",
     "text": [
      "1900 ->OK\n",
      "2000 ->OK\n",
      "2016 ->OK\n",
      "1987 ->OK\n"
     ]
    }
   ],
   "source": [
    "def is_year_leap(year):\n",
    "    if (year % 4 == 0 and year % 100 != 0) or (year % 400 == 0):\n",
    "        return True\n",
    "    else:\n",
    "        return False\n",
    "\n",
    "# Тестовые данные\n",
    "test_data = [1900, 2000, 2016, 1987]\n",
    "test_results = [False, True, True, False]\n",
    "\n",
    "# Тестирование функции\n",
    "for i in range(len(test_data)):\n",
    "    yr = test_data[i]\n",
    "    print(yr, \"->\", end=\"\")\n",
    "    result = is_year_leap(yr)\n",
    "    if result == test_results[i]:\n",
    "        print(\"OK\")\n",
    "    else:\n",
    "        print(\"Failed\")\n"
   ]
  },
  {
   "cell_type": "markdown",
   "id": "dbe6372a-0845-4969-a3ec-fd82ee55d04d",
   "metadata": {},
   "source": [
    "### Пояснення\n",
    "1900 рік ділиться на 100, але не ділиться на 400, тому це не високосний рік.\n",
    "2000 рік ділиться і на 100, і на 400, тому це високосний рік.\n",
    "2016 рік ділиться на 4, але не ділиться на 100, тому це високосний рік.\n",
    "1987 рік не ділиться на 4, тому це не високосний рік.\n",
    "Тестовий код перевіряє вашу функцію і виводить \"OK\", якщо результат правильний, або \"Failed\", якщо є помилка."
   ]
  },
  {
   "cell_type": "markdown",
   "id": "d0b5ea66-389b-4c6e-8f41-2054fc984982",
   "metadata": {},
   "source": [
    "## Завдання 2 "
   ]
  },
  {
   "cell_type": "markdown",
   "id": "72295ba4-df16-4e4b-9ca3-9dc492313be2",
   "metadata": {},
   "source": [
    "Написати та протестувати функцію, яка приймає два аргументи (рік і місяць) і повертає кількість днів для даної пари рік-місяць (у той час, як тільки лютий чутливий до значення `year`, Ваша функція має бути універсальною).\n",
    "\n",
    "Початок функції готовий. Тепер переконайте функцію повернути `None`, якщо її аргументи не мають сенсу.\n",
    "\n",
    "Звичайно, Ви можете (і повинні) використовувати раніше написану та протестовану функцію (див. попередні лаб. роб.). Це може бути дуже корисним. Ми рекомендуємо використовувати список із зазначенням довжини місяців. Ви можете створити його всередині функції – цей трюк значно скоротить код.\n",
    "\n",
    "Ми підготували тестуючий код. Розвійте його, щоб увімкнути більше тестових випадків."
   ]
  },
  {
   "cell_type": "code",
   "execution_count": 32,
   "id": "b601f73d-64ac-45d5-96b2-5868c02c6ef1",
   "metadata": {},
   "outputs": [
    {
     "name": "stdout",
     "output_type": "stream",
     "text": [
      "1900, лютий: не високосний рік, тому має 28 днів.\n",
      "2000, лютий: високосний рік, тому має 29 днів.\n",
      "2016, січень: високосний рік, тому має 31 днів.\n",
      "1987, листопад: не високосний рік, тому має 30 днів.\n"
     ]
    }
   ],
   "source": [
    "def is_year_leap(year):\n",
    "    if (year % 4 == 0 and year % 100 != 0) or (year % 400 == 0):\n",
    "        return True\n",
    "    else:\n",
    "        return False\n",
    "\n",
    "def days_in_month(year, month):\n",
    "    # Перевіряємо чи місяць в діапазоні від 1 до 12\n",
    "    if month < 1 or month > 12:\n",
    "        return None\n",
    "\n",
    "    # Кількість днів у кожному місяці\n",
    "    days_in_months = [31, 29 if is_year_leap(year) else 28, 31, 30, 31, 30, 31, 31, 30, 31, 30, 31]\n",
    "    \n",
    "    # Повертаємо кількість днів для даного місяця\n",
    "    return days_in_months[month - 1]\n",
    "\n",
    "# Тестові дані\n",
    "test_years = [1900, 2000, 2016, 1987]\n",
    "test_months = [2, 2, 1, 11]\n",
    "test_results = [28, 29, 31, 30]\n",
    "\n",
    "# Тестування функції з виведенням у потрібному форматі\n",
    "for i in range(len(test_years)):\n",
    "    yr = test_years[i]\n",
    "    mo = test_months[i]\n",
    "    result = days_in_month(yr, mo)\n",
    "    \n",
    "    # Виводимо результат у відповідному форматі\n",
    "    month_names = [\"січень\", \"лютий\", \"березень\", \"квітень\", \"травень\", \"червень\", \n",
    "                   \"липень\", \"серпень\", \"вересень\", \"жовтень\", \"листопад\", \"грудень\"]\n",
    "    \n",
    "    if result is not None:\n",
    "        print(f\"{yr}, {month_names[mo-1]}: {'високосний' if is_year_leap(yr) else 'не високосний'} рік, тому має {result} днів.\")\n",
    "    else:\n",
    "        print(f\"{yr}, {mo} -> Невірний місяць!\")\n"
   ]
  },
  {
   "cell_type": "markdown",
   "id": "52957c3e-fa1f-4ae9-860d-c4e03976b12e",
   "metadata": {},
   "source": [
    "## Завдання 3\n",
    "\n",
    "Написати та протестувати функцію, яка приймає три аргументи (рік, місяць та день місяця) та повертає відповідний день року або None, якщо якийсь із аргументів невірний.\n",
    "\n",
    "Використовуйте раніше написані та протестовані функції. Додайте до коду свої власні тестові випадки."
   ]
  },
  {
   "cell_type": "code",
   "execution_count": 36,
   "id": "b48b74d4-d375-4a41-83f9-148caaea878d",
   "metadata": {},
   "outputs": [
    {
     "name": "stdout",
     "output_type": "stream",
     "text": [
      "366\n",
      "60\n",
      "365\n",
      "None\n",
      "None\n"
     ]
    }
   ],
   "source": [
    "def is_year_leap(year):\n",
    "    # Перевірка, чи є рік високосним\n",
    "    if (year % 4 == 0 and year % 100 != 0) or (year % 400 == 0):\n",
    "        return True\n",
    "    else:\n",
    "        return False\n",
    "\n",
    "def days_in_month(year, month):\n",
    "    # Перевіряємо чи місяць в діапазоні від 1 до 12\n",
    "    if month < 1 or month > 12:\n",
    "        return None\n",
    "\n",
    "    # Кількість днів у кожному місяці\n",
    "    days_in_months = [31, 29 if is_year_leap(year) else 28, 31, 30, 31, 30, 31, 31, 30, 31, 30, 31]\n",
    "    \n",
    "    # Повертаємо кількість днів для даного місяця\n",
    "    return days_in_months[month - 1]\n",
    "\n",
    "def day_of_year(year, month, day):\n",
    "    # Перевірка, чи місяць і день вірні\n",
    "    if month < 1 or month > 12:\n",
    "        return None\n",
    "    \n",
    "    days_in_current_month = days_in_month(year, month)\n",
    "    \n",
    "    if day < 1 or day > days_in_current_month:\n",
    "        return None\n",
    "    \n",
    "    # Підраховуємо кількість днів від початку року до зазначеного дня\n",
    "    total_days = 0\n",
    "    for m in range(1, month):\n",
    "        total_days += days_in_month(year, m)\n",
    "    \n",
    "    total_days += day\n",
    "    return total_days\n",
    "\n",
    "# Тестування\n",
    "print(day_of_year(2000, 12, 31))  # 366 (високосний рік)\n",
    "print(day_of_year(2024, 2, 29))   # 60 (високосний рік)\n",
    "print(day_of_year(2023, 12, 31))  # 365 (невисокосний рік)\n",
    "print(day_of_year(2023, 2, 29))   # None (немає 29-го лютого у невисокосному році)\n",
    "print(day_of_year(2024, 13, 1))   # None (місяць невірний)\n"
   ]
  },
  {
   "cell_type": "markdown",
   "id": "f03cf735-c3d7-4c3d-ba82-23ddb3451f6a",
   "metadata": {},
   "source": [
    "### Пояснення:\n",
    "Функція is_year_leap визначає, чи є рік високосним.\n",
    "Функція days_in_month повертає кількість днів для заданого місяця, враховуючи високосний лютий.\n",
    "Функція day_of_year:\n",
    "Перевіряє правильність аргументів: місяць має бути в межах від 1 до 12, день має бути в межах від 1 до кількості днів у місяці.\n",
    "Підраховує загальну кількість днів з початку року до зазначеного дня.\n",
    "Повертає None, якщо аргументи невірні."
   ]
  },
  {
   "cell_type": "markdown",
   "id": "15cbc21c-e63a-474c-827f-af8eb9aa33c9",
   "metadata": {},
   "source": [
    "##  Завдання 4"
   ]
  },
  {
   "cell_type": "markdown",
   "id": "9ed21fdb-a7d9-4cf5-86c1-01a7c8c4db5d",
   "metadata": {},
   "source": [
    "Натуральне число є простим, якщо воно більше 1 і не має дільників, крім 1 і самого себе.\n",
    "\n",
    "Важко? Зовсім ні. Наприклад, 8 не є простим числом, оскільки Ви можете розділити його на 2 та 4 (ми не можемо використовувати дільники, рівні 1 та 8, оскільки визначення забороняє це).\n",
    "\n",
    "З іншого боку, 7 - просте число, оскільки ми можемо знайти йому підходящих дільників.\n",
    "\n",
    "\n",
    "Ваше завдання - написати функцію, що перевіряє, чи є число простим чи ні.\n",
    "\n",
    "Функція:\n",
    "\n",
    "* називається `is_prime`;\n",
    "* приймає один аргумент (значення для перевірки)\n",
    "* повертає `True`, якщо аргумент є простим числом, і `False` інакше.  \n",
    "\n",
    "::: callout-tip\n",
    "## Підказка\n",
    "Спробуйте розділити аргумент на всі наступні значення (починаючи з 2) і перевірте залишок - якщо він дорівнює нулю, Ваше число не може бути простим; добре подумайте, коли вам слід зупинити процес.\n",
    ":::\n",
    "\n",
    "Якщо вам потрібно знайти квадратний корінь із будь-якого значення, Ви можете використовувати оператор `**`. Пам'ятайте: квадратний корінь `x` дорівнює $x^{0,5}$.\n",
    "\n",
    "Доповніть код у редакторі."
   ]
  },
  {
   "cell_type": "code",
   "execution_count": 41,
   "id": "b8d54071-82bf-4d40-a445-8de0f72543eb",
   "metadata": {},
   "outputs": [
    {
     "name": "stdout",
     "output_type": "stream",
     "text": [
      "2 3 5 7 11 13 17 19 \n"
     ]
    }
   ],
   "source": [
    "def is_prime(num):\n",
    "    if num < 2:\n",
    "        return False\n",
    "    for i in range(2, int(num ** 0.5) + 1):\n",
    "        if num % i == 0:\n",
    "            return False\n",
    "    return True\n",
    "\n",
    "# Тестування\n",
    "for i in range(1, 20):\n",
    "    if is_prime(i + 1):\n",
    "        print(i + 1, end=\" \")\n",
    "print()\n"
   ]
  },
  {
   "cell_type": "markdown",
   "id": "3bb60036-07f2-43ca-9588-8cce1682f341",
   "metadata": {},
   "source": [
    "### Пояснення:\n",
    "Функція is_prime(num):\n",
    "Перевіряє, чи є число більше 1.\n",
    "Перебирає всі числа від 2 до квадратного кореня з num, перевіряючи, чи ділиться число на будь-яке з них.\n",
    "Якщо знаходиться дільник, повертається False, інакше — True.\n",
    "У циклі for ми перевіряємо всі числа від 2 до 20 на простоту і виводимо ті, які є простими"
   ]
  },
  {
   "cell_type": "markdown",
   "id": "880c749a-f672-41e2-9495-712bd6b6a402",
   "metadata": {},
   "source": [
    "## Очікуваний вивод"
   ]
  },
  {
   "cell_type": "markdown",
   "id": "50f1be4d-ee68-4209-87c9-8f1a6f9f04a9",
   "metadata": {},
   "source": [
    "`2 3 5 7 11 13 17 19`"
   ]
  },
  {
   "cell_type": "markdown",
   "id": "6a9a38ee-ee49-4a1c-95a6-83d509942a8f",
   "metadata": {},
   "source": [
    "## Завдання 5"
   ]
  },
  {
   "cell_type": "markdown",
   "id": "bb829748-2484-4177-919a-c0b17b8736f1",
   "metadata": {},
   "source": [
    "Витрата палива автомобіля можна висловити по-різному. Наприклад, у Європі він відображається як кількість витраченого палива на 100 кілометрів шляху.\n",
    "\n",
    "У США він відображається як кількість миль, пройдених автомобілем під час витрачання одного галону палива.\n",
    "\n",
    "Ваше завдання - написати дві функції, що конвертують л/100км в миль на галон, і навпаки.\n",
    "\n",
    "Функції:\n",
    "\n",
    "* названі `liters_100km_to_miles_gallon` та `miles_gallon_to_liters_100km` відповідно;\n",
    "* приймають один аргумент (значення, що відповідає їхнім іменам)  \n",
    "\n",
    "Доповніть код у редакторі.\n",
    "\n",
    "Запустіть свій код і перевірте, чи Ваш результат збігається з нашим.\n",
    "\n",
    "Ось деяка інформація, яка може допомогти Вам:\n",
    "\n",
    "* 1 американська мідя = 1609.344 метрів;\n",
    "* 1 американський галон = 3.785411784 літрів."
   ]
  },
  {
   "cell_type": "code",
   "execution_count": 58,
   "id": "3d6c4e80-69ad-46a8-9925-82e7ff8ef8f9",
   "metadata": {},
   "outputs": [
    {
     "name": "stdout",
     "output_type": "stream",
     "text": [
      "60.31142491857481\n",
      "31.3619409576589\n",
      "23.521455718244173\n",
      "1.0304663221182984\n",
      "1.978889147252656\n",
      "2.6441327329248248\n"
     ]
    }
   ],
   "source": [
    "# Функція для перетворення літрів на 100 км у милі на галон\n",
    "def liters_100km_to_miles_gallon(liters):\n",
    "    # 1 км = 0.621371 милі, 1 літр = 0.264172 галони\n",
    "    miles_per_100km = 100 * 0.621371  # 100 км у милях\n",
    "    gallons = liters * 0.264172  # літри у галони\n",
    "    return miles_per_100km / gallons\n",
    "\n",
    "# Функція для перетворення миль на галон у літри на 100 км\n",
    "def miles_gallon_to_liters_100km(miles):\n",
    "    # 1 км = 0.621371 милі, 1 літр = 0.264172 галони\n",
    "    kilometers_per_gallon = miles * 1.609344  # милі у кілометри\n",
    "    liters_per_100km = 100 / kilometers_per_gallon  # літри на 100 км\n",
    "    return liters_per_100km\n",
    "\n",
    "# Тестування функцій\n",
    "print(liters_100km_to_miles_gallon(3.9))   # ~60.31\n",
    "print(liters_100km_to_miles_gallon(7.5))   # ~31.36\n",
    "print(liters_100km_to_miles_gallon(10.0))  # ~23.52\n",
    "\n",
    "print(miles_gallon_to_liters_100km(60.3))  # ~3.90\n",
    "print(miles_gallon_to_liters_100km(31.4))  # ~7.50\n",
    "print(miles_gallon_to_liters_100km(23.5))  # ~10.00\n"
   ]
  },
  {
   "cell_type": "markdown",
   "id": "a89fc3aa-29c1-4f7d-8efe-c25cc5a4014d",
   "metadata": {},
   "source": [
    "## Очікуваний вивод"
   ]
  },
  {
   "cell_type": "markdown",
   "id": "34fcb86a-df09-41f4-84ee-69b528416e46",
   "metadata": {},
   "source": [
    "`60.31143162393162`  \n",
    "`31.36194444444444`  \n",
    "`23.52145833333333`  \n",
    "`3.9007393587617467`  \n",
    "`7.490910297239916`  \n",
    "`10.009131205673757`"
   ]
  },
  {
   "cell_type": "markdown",
   "id": "7050eb64-24c0-4dd3-b223-a9dd027b50bd",
   "metadata": {},
   "source": [
    "## Приклад 1"
   ]
  },
  {
   "cell_type": "markdown",
   "id": "e18138e8-efb2-4b4f-9ba3-88ebac0e4dd6",
   "metadata": {},
   "source": [
    "Давайте напишемо функцію оцінки індексу маси тіла (ІМТ, BMI).\n",
    "$$BMI = \\frac{m}{h^2}$$\n",
    "тут $m$ -- маса у _кг_, $h$ -- зріст у _м_."
   ]
  },
  {
   "cell_type": "code",
   "execution_count": 16,
   "id": "ac96e9ef-8eb8-4f38-a926-6a2c318bd94f",
   "metadata": {},
   "outputs": [
    {
     "name": "stdout",
     "output_type": "stream",
     "text": [
      "19.283746556473833\n"
     ]
    }
   ],
   "source": [
    "def bmi(weight, height):\n",
    "    return weight / height ** 2\n",
    "\n",
    "\n",
    "print(bmi(52.5, 1.65))"
   ]
  },
  {
   "cell_type": "markdown",
   "id": "8b9af24c-cda1-46a3-924f-9a88d63d8051",
   "metadata": {},
   "source": [
    "## Ключове слово `None` "
   ]
  },
  {
   "cell_type": "markdown",
   "id": "30e892ca-534f-4625-9638-81a1b3d1fa52",
   "metadata": {},
   "source": [
    "Функція у попередньому прикладі виправдовує наші очікування, але вона дещо проста – вона припускає, що значення обох параметрів завжди мають сенс. Варто перевірити, чи заслуговують вони на довіру.\n",
    "\n",
    "Давайте перевіримо їх обидва і повернемо `None`, якщо якесь з них виглядає підозріло."
   ]
  },
  {
   "cell_type": "markdown",
   "id": "46f0618d-3f51-44a8-9ed8-3afcb670c445",
   "metadata": {},
   "source": [
    "## Завдання 6 "
   ]
  },
  {
   "cell_type": "markdown",
   "id": "b19934d2-fe1c-4e2c-98ab-b0d734c5205a",
   "metadata": {},
   "source": [
    "Написати функцію, яка перевіряє, чи три сторони заданої довжини побудувати трикутник. Вона має повернути `True`, якщо сторони можуть утворити трикутник, і `False` в іншому випадку. У цьому випадку `is_a_triangle(a, b, c)` – гарна назва для такої функції."
   ]
  },
  {
   "cell_type": "code",
   "execution_count": 65,
   "id": "00fb9927-50d4-4a13-abde-7c2d982f32c9",
   "metadata": {},
   "outputs": [
    {
     "name": "stdout",
     "output_type": "stream",
     "text": [
      "True\n",
      "False\n",
      "None\n",
      "None\n"
     ]
    }
   ],
   "source": [
    "def is_a_triangle(a, b, c):\n",
    "    # Перевірка, чи всі параметри є додатними числами\n",
    "    if not (isinstance(a, (int, float)) and isinstance(b, (int, float)) and isinstance(c, (int, float))):\n",
    "        return None\n",
    "    if a <= 0 or b <= 0 or c <= 0:\n",
    "        return None\n",
    "\n",
    "    # Перевірка умови існування трикутника\n",
    "    if a + b > c and a + c > b and b + c > a:\n",
    "        return True\n",
    "    else:\n",
    "        return False\n",
    "\n",
    "# Приклад використання\n",
    "print(is_a_triangle(3, 4, 5))  # True\n",
    "print(is_a_triangle(1, 1, 2))  # False\n",
    "print(is_a_triangle(0, 1, 2))  # None\n",
    "print(is_a_triangle('a', 4, 5))  # None\n"
   ]
  },
  {
   "cell_type": "markdown",
   "id": "c5214d19-4dc6-4e5f-80aa-ea2d50dcc081",
   "metadata": {},
   "source": [
    "## Завдання 7 "
   ]
  },
  {
   "cell_type": "markdown",
   "id": "d35c3b7d-d5aa-42f9-890f-75a536eb767f",
   "metadata": {},
   "source": [
    "Написати функцію `is_a_right_triangle(a, b, c)`, яка перевіряє, чи є трикутник зі сторонами `a`, `b`, `c` прямокутним. При цьому потрібно використати функцію `is_a_triangle(a, b, c)` з завдання 6. "
   ]
  },
  {
   "cell_type": "code",
   "execution_count": 69,
   "id": "ea9d1ec7-8ff8-4301-93df-3fd44b8fdfcf",
   "metadata": {},
   "outputs": [
    {
     "name": "stdout",
     "output_type": "stream",
     "text": [
      "True\n",
      "True\n",
      "False\n",
      "False\n"
     ]
    }
   ],
   "source": [
    "def is_a_right_triangle(a, b, c):\n",
    "    # Використовуємо попередню функцію для перевірки, чи можна утворити трикутник\n",
    "    if not is_a_triangle(a, b, c):\n",
    "        return False\n",
    "    \n",
    "    # Застосовуємо теорему Піфагора: a² + b² = c² (де c - найбільша сторона)\n",
    "    sides = sorted([a, b, c])  # Сортуємо сторони, щоб найбільша була останньою\n",
    "    if round(sides[0] ** 2 + sides[1] ** 2, 5) == round(sides[2] ** 2, 5):  # Перевірка з округленням\n",
    "        return True\n",
    "    else:\n",
    "        return False\n",
    "\n",
    "# Приклад використання\n",
    "print(is_a_right_triangle(3, 4, 5))  # True\n",
    "print(is_a_right_triangle(5, 12, 13))  # True\n",
    "print(is_a_right_triangle(1, 1, 2))  # False\n",
    "print(is_a_right_triangle(3, 4, 6))  # False\n"
   ]
  },
  {
   "cell_type": "markdown",
   "id": "285d6670-507c-48b2-8e45-76b889b7f05b",
   "metadata": {},
   "source": [
    "## Завдання для самостіної роботи\n",
    "\n",
    "1. Виконати завдання 1-7 наведені вище у цьому зошиті.\n",
    "\n",
    "1. Створити файл __lab_6_StudentLastName.py__ з написаним кодом. \n",
    "\n",
    "1. Закомітити файл у локальний репозиторій.\n",
    "\n",
    "1. Відправити (\"запушити\") поточну версію Git-проєкта у віддалений репозиторій на GitHub.\n",
    "\n",
    "1. Звіт має складатися з файлу (за основу взяти __цей Python-зошит__)  `lab_6_StudentLastName.ipynb`. (Можливі якісь додакові файли)"
   ]
  },
  {
   "cell_type": "markdown",
   "id": "71316b22-2582-41a7-8c91-ae85bedf5f4d",
   "metadata": {},
   "source": [
    "## Контрольні відповіді запитання"
   ]
  },
  {
   "cell_type": "code",
   "execution_count": 77,
   "id": "90bde9c5-6ea1-4769-85f1-7caafd70881a",
   "metadata": {},
   "outputs": [
    {
     "name": "stdout",
     "output_type": "stream",
     "text": [
      "Hello, World!\n",
      "1\n"
     ]
    }
   ],
   "source": [
    "def message():\n",
    "    alt = 1\n",
    "    print(\"Hello, World!\")\n",
    "    print(alt)\n",
    "\n",
    "# Виклик функції (цей рядок відсутній у наданому фрагменті, але він необхідний для виконання коду)\n",
    "message()"
   ]
  },
  {
   "cell_type": "markdown",
   "id": "38257c5d-91ad-4bab-98b9-8f876ccfe99e",
   "metadata": {},
   "source": [
    "Спочатку створюється функція message().\n",
    "Потім ми викликаємо цю функцію.\n",
    "Всередині функції:\n",
    "створюється змінна alt і їй присвоюється значення 1.\n",
    "виводиться на екран текст \"Hello, World!\".\n",
    "виводиться на екран значення змінної alt, тобто число 1."
   ]
  },
  {
   "cell_type": "code",
   "execution_count": 80,
   "id": "d17a61cf-e602-4257-b9c4-270006bb8a76",
   "metadata": {},
   "outputs": [
    {
     "name": "stdout",
     "output_type": "stream",
     "text": [
      "2\n",
      "1\n"
     ]
    }
   ],
   "source": [
    "a = 1\n",
    "\n",
    "def fun():\n",
    "    a = 2\n",
    "    print(a)\n",
    "\n",
    "fun()\n",
    "print(a)"
   ]
  },
  {
   "cell_type": "markdown",
   "id": "0141f466-cf6d-45a5-97c4-e1278cbc36b0",
   "metadata": {},
   "source": [
    "Пояснення:\n",
    "Спочатку виводиться 2, тому що при виклику функції fun ми друкуємо значення локальної змінної a всередині функції.\n",
    "Потім виводиться 1, тому що після завершення роботи функції ми друкуємо значення глобальної змінної a, яке не змінювалося всередині функції."
   ]
  },
  {
   "cell_type": "code",
   "execution_count": 82,
   "id": "135c2157-cc33-4569-8711-f2a6367da353",
   "metadata": {},
   "outputs": [
    {
     "name": "stdout",
     "output_type": "stream",
     "text": [
      "2\n",
      "3\n"
     ]
    }
   ],
   "source": [
    "a = 1\n",
    "\n",
    "def fun():\n",
    "    global a\n",
    "    a = 2\n",
    "    print(a)\n",
    "\n",
    "fun()\n",
    "a = 3\n",
    "print(a)"
   ]
  },
  {
   "cell_type": "markdown",
   "id": "6dee7d73-dce6-472f-aaf4-ac2245ad0c80",
   "metadata": {},
   "source": [
    "Пояснення виводу:\n",
    "Перше значення 2: Виводиться внутри функції fun, після того як ми змінили глобальну змінну a на 2.\n",
    "Друге значення 3: Виводиться після виконання функції, коли ми змінили глобальну змінну a на 3 в останній раз."
   ]
  },
  {
   "cell_type": "code",
   "execution_count": 97,
   "id": "3d62cdda-70fc-485a-a7a7-1d1110621d7d",
   "metadata": {},
   "outputs": [
    {
     "name": "stdout",
     "output_type": "stream",
     "text": [
      "2\n",
      "2\n"
     ]
    }
   ],
   "source": [
    "a = 1\n",
    "\n",
    "def fun():\n",
    "    global a\n",
    "    a = 2\n",
    "    print(a)\n",
    "a = 3\n",
    "fun()\n",
    "print(a)"
   ]
  },
  {
   "cell_type": "markdown",
   "id": "9fd26a62-db05-469c-b8e9-d995ff779595",
   "metadata": {},
   "source": [
    "Перше 2 – це результат виконання print(a) всередині функції fun().\n",
    "Друге 2 – це результат виконання print(a) після виклику функції, оскільки значення глобальної змінної a змінилося на 2 всередині функції."
   ]
  },
  {
   "cell_type": "markdown",
   "id": "d7f8f9f8-5de7-4a62-9148-c6c2256f2135",
   "metadata": {},
   "source": [
    "## References"
   ]
  },
  {
   "cell_type": "markdown",
   "id": "e4c54982-ae3d-48c3-b654-3042f16f1ad1",
   "metadata": {},
   "source": [
    "1. [Anaconda (Python distribution)](https://uk.wikipedia.org/wiki/Anaconda_(Python_distribution))\n",
    "2. [Conda](https://conda.io/en/latest/)\n",
    "3. [Pro Git Book](https://git-scm.com/book/en/v2)\n",
    "4. [OpenEDG Python Institute](https://pythoninstitute.org/)\n",
    "5. [Cisco. Networking Academy](https://www.netacad.com/)\n",
    "6. [Научно-издательская система Quarto](https://data-visualization-blog.netlify.app/posts/quarto/)"
   ]
  }
 ],
 "metadata": {
  "kernelspec": {
   "display_name": "Python 3 (ipykernel)",
   "language": "python",
   "name": "python3"
  },
  "language_info": {
   "codemirror_mode": {
    "name": "ipython",
    "version": 3
   },
   "file_extension": ".py",
   "mimetype": "text/x-python",
   "name": "python",
   "nbconvert_exporter": "python",
   "pygments_lexer": "ipython3",
   "version": "3.12.4"
  }
 },
 "nbformat": 4,
 "nbformat_minor": 5
}
