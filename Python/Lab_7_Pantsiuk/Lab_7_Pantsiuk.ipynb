{
 "cells": [
  {
   "attachments": {},
   "cell_type": "markdown",
   "id": "3c587e68-f6d9-4bd9-b984-a70b6ed2bbd2",
   "metadata": {},
   "source": [
    "---\n",
    "title: \"Лабораторна робота №7. Словники, кортежі. Обробка винятків (empty)\"\n",
    "description:\n",
    "  Документ зроблено за допомогою [Quarto](https://quarto.org/)\n",
    "author: \"&copy; [<span style='color: blue;'>Pantsiuk Kyrylo </span>](https://github.com/kirillpantsiuk), 2024\"\n",
    "date: \"10.15.2024\"\n",
    "format:\n",
    "  html:\n",
    "    toc: true                  # Включаем оглавление\n",
    "    toc-title: \"Table of contents\"  # Название меню\n",
    "    toc-depth: 2               # Глубина уровней заголовков (2 уровня в данном случае)\n",
    "    toc-location: right         # Расположение меню (слева)\n",
    "---"
   ]
  },
  {
   "cell_type": "markdown",
   "id": "f3a120b7-7849-46a2-af01-c6301cad4a38",
   "metadata": {},
   "source": [
    "__Мета:__ _навчитися працювати зі структурами даних Кортеж та Словник. Навчитись обробляти основні типи винятків_"
   ]
  },
  {
   "cell_type": "markdown",
   "id": "f05086ed-8472-4c4d-8f21-bc5723f06b4d",
   "metadata": {},
   "source": [
    "::: callout-tip\n",
    "## Примітка\n",
    "Попередньо потрібно опрацювати лекцію 7.\n",
    ":::"
   ]
  },
  {
   "cell_type": "markdown",
   "id": "79f8cad8-1f42-4fa9-8ced-b68161d1858f",
   "metadata": {},
   "source": [
    "::: callout-tip\n",
    "## Примітка\n",
    "У лабораторній роботі використано матеріали [python institute.](https://pythoninstitute.org/pcep) \n",
    ":::"
   ]
  },
  {
   "cell_type": "markdown",
   "id": "5313ee1b-6a64-491a-8241-9f61bd1c0c1c",
   "metadata": {
    "tags": []
   },
   "source": [
    "## Що ви будете вміти?\n",
    "* створювати та обробляти кортежі (`tuple`).\n",
    "* створювати і обробляти словники (`dict`).\n",
    "* сумісно викростовувати словники і кортежі\n",
    "* обробляти основні типи винятків."
   ]
  },
  {
   "cell_type": "markdown",
   "id": "028266fc-9c0e-47fa-847d-7b7e269ae194",
   "metadata": {},
   "source": [
    "## Робота зі словниками"
   ]
  },
  {
   "cell_type": "markdown",
   "id": "81ac8518-d23c-44ce-92a7-e2690946443d",
   "metadata": {},
   "source": [
    "## Приклад 1\n",
    "\n",
    "Створіть кортеж, який містить інформацію про результати іспитів з трьох предметів для студента (наприклад, математика, фізика та хімія). Виведіть на екран середній бал та максимальний бал."
   ]
  },
  {
   "cell_type": "code",
   "execution_count": 36,
   "id": "6fea0867-6ca8-47ba-ae52-fc92d735ec5a",
   "metadata": {},
   "outputs": [
    {
     "name": "stdout",
     "output_type": "stream",
     "text": [
      "Середній бал: 81.66666666666667\n",
      "Максимальний бал: 90\n"
     ]
    }
   ],
   "source": [
    "# results = (80, 75, 90)\n",
    "\n",
    "average_score = sum(results) / len(results)\n",
    "max_score = max(results)\n",
    "\n",
    "print(f\"Середній бал: {average_score}\")\n",
    "print(f\"Максимальний бал: {max_score}\")"
   ]
  },
  {
   "cell_type": "markdown",
   "id": "1e93479c-9517-4793-936e-29b1cc464595",
   "metadata": {},
   "source": [
    "У цьому коді ми створюємо кортеж `results`, який містить оцінки студента з трьох предметів. Потім ми обчислюємо середній бал, використовуючи вбудовані функції `sum` та `len`, та максимальний бал, використовуючи вбудовану функцію `max`. Нарешті, ми виводимо ці значення на екран за допомогою функції `print`. Водночас ми продемонстрували один з варіантів форматованого виводу."
   ]
  },
  {
   "cell_type": "markdown",
   "id": "f34925a7-47cc-45e6-b94f-b92d9f643750",
   "metadata": {},
   "source": [
    "## Приклад 2 "
   ]
  },
  {
   "cell_type": "markdown",
   "id": "f1376eb4-a6a6-4fdc-9da7-5498ea9adbe9",
   "metadata": {},
   "source": [
    "Створіть програму, яка буде обчислювати площу трикутника за трьома сторонами, які користувач введе з клавіатури. Збережіть введені користувачем значення за допомогою кортежів та виведіть їх на екран."
   ]
  },
  {
   "cell_type": "code",
   "execution_count": 37,
   "id": "6ec03f73-e663-4f6b-b263-f717fbc87446",
   "metadata": {},
   "outputs": [
    {
     "name": "stdin",
     "output_type": "stream",
     "text": [
      "Введіть довжину першої сторони трикутника:  1\n",
      "Введіть довжину другої сторони трикутника:  2\n",
      "Введіть довжину третьої сторони трикутника:  3\n"
     ]
    },
    {
     "name": "stdout",
     "output_type": "stream",
     "text": [
      "Довжина сторін трикутника: (1.0, 2.0, 3.0)\n",
      "Площа трикутника: 0.0\n"
     ]
    }
   ],
   "source": [
    "a = float(input(\"Введіть довжину першої сторони трикутника: \"))\n",
    "b = float(input(\"Введіть довжину другої сторони трикутника: \"))\n",
    "c = float(input(\"Введіть довжину третьої сторони трикутника: \"))\n",
    "\n",
    "# обчислюємо півпериметр\n",
    "p = (a + b + c) / 2\n",
    "\n",
    "# обчислюємо площу трикутника за формулою Герона\n",
    "area = (p * (p - a) * (p - b) * (p - c)) ** 0.5\n",
    "\n",
    "# зберігаємо введені користувачем значення у кортеж\n",
    "triangle_sides = (a, b, c)\n",
    "\n",
    "# виводимо на екран введені користувачем значення та площу трикутника\n",
    "print(f\"Довжина сторін трикутника: {triangle_sides}\")\n",
    "print(f\"Площа трикутника: {area}\")\n"
   ]
  },
  {
   "cell_type": "markdown",
   "id": "758be15f-b4e7-4c7c-b793-6c10a9a3adb2",
   "metadata": {},
   "source": [
    "У цьому прикладі ми використовуємо кортеж `triangle_sides`, щоб зберегти довжини трьох сторін трикутника, які введені користувачем з клавіатури. "
   ]
  },
  {
   "cell_type": "markdown",
   "id": "2dc39797-6e7c-4f80-b0bb-4c22be9d3f9e",
   "metadata": {},
   "source": [
    "## Приклад 3 "
   ]
  },
  {
   "cell_type": "markdown",
   "id": "dfae6950-8a99-45f4-b8f0-c4f8931c83cb",
   "metadata": {},
   "source": [
    "Напишіть програму, яка змінює порядок елементів у кортежі. Користувач повинен ввести кортеж, а програма повинна вивести його елементи у зворотному порядку."
   ]
  },
  {
   "cell_type": "code",
   "execution_count": 38,
   "id": "6510390e-59dc-490d-bf68-de1795874079",
   "metadata": {},
   "outputs": [
    {
     "name": "stdin",
     "output_type": "stream",
     "text": [
      "Введіть елементи кортежу, розділені комою:  1, 2, 3, 4, 5\n"
     ]
    },
    {
     "name": "stdout",
     "output_type": "stream",
     "text": [
      "Зворотний порядок елементів кортежу: (' 5', ' 4', ' 3', ' 2', '1')\n"
     ]
    }
   ],
   "source": [
    "t = tuple(input(\"Введіть елементи кортежу, розділені комою: \").split(','))\n",
    "\n",
    "# змінюємо порядок елементів у кортежі\n",
    "reversed_t = t[::-1]\n",
    "\n",
    "# виводимо зворотний порядок елементів на екран\n",
    "print(f\"Зворотний порядок елементів кортежу: {reversed_t}\")"
   ]
  },
  {
   "cell_type": "markdown",
   "id": "ef9ea3d1-4ad8-46e3-a0e8-17e1be68d4b5",
   "metadata": {},
   "source": [
    "У цьому прикладі ми використовуємо оператор зрізу `[::]`, щоб змінити порядок елементів у кортежі `t` на зворотний порядок. Потім ми виводимо на екран зворотний порядок елементів у новому кортежі `reversed_t`.\n",
    "\n",
    "Наприклад, якщо користувач введе `\"1,2,3,4,5\"`, програма виведе на екран: \"Зворотний порядок елементів кортежу: `('5', '4', '3', '2', '1')`."
   ]
  },
  {
   "cell_type": "markdown",
   "id": "a49bbca2-a482-42b0-aa1e-ede70b657084",
   "metadata": {},
   "source": [
    "## Завдання 1"
   ]
  },
  {
   "cell_type": "markdown",
   "id": "cebff52a-784f-44c8-b1fb-63d7f4eaec58",
   "metadata": {},
   "source": [
    "Напишіть програму, яка створює кортеж зі списку чисел, а потім виводить на екран всі числа, які менші за задане число `n`. Умова: користувач вводить число `n`, і   щоб створити новий список `result`, який містить всі числа з кортежу, які менші за `n`, реалізувати за допомогою генератора списків."
   ]
  },
  {
   "cell_type": "code",
   "execution_count": 23,
   "id": "7d9812dc-fca1-402a-b3dc-ef11cd194cf8",
   "metadata": {},
   "outputs": [
    {
     "name": "stdin",
     "output_type": "stream",
     "text": [
      "Введіть число n:  10\n"
     ]
    },
    {
     "name": "stdout",
     "output_type": "stream",
     "text": [
      "Числа, менші за 10 : [5, 3, 7]\n"
     ]
    }
   ],
   "source": [
    "# Запит у користувача числа n\n",
    "n = int(input(\"Введіть число n: \"))\n",
    "\n",
    "# Створення списку чисел\n",
    "numbers_list = [10, 5, 20, 3, 15, 7, 30]\n",
    "\n",
    "# Створення кортежу зі списку чисел\n",
    "numbers_tuple = tuple(numbers_list)\n",
    "\n",
    "# Використання генератора списків для створення нового списку result\n",
    "result = [num for num in numbers_tuple if num < n]\n",
    "\n",
    "# Виведення результату\n",
    "print(\"Числа, менші за\", n, \":\", result)\n"
   ]
  },
  {
   "cell_type": "markdown",
   "id": "91267daa-3f30-43e6-89e8-0cf0781d73c2",
   "metadata": {},
   "source": [
    "### Пояснення коду:\n",
    "Запит числа n: Програма просить користувача ввести число n.\n",
    "Список чисел: Створюється список numbers_list, що містить кілька чисел.\n",
    "Кортеж: З цього списку створюється кортеж numbers_tuple.\n",
    "Генератор списків: Використовується для створення списку result, який містить всі числа з кортежу, менші за n.\n",
    "Виведення результату: Виводиться список result."
   ]
  },
  {
   "cell_type": "markdown",
   "id": "ed935e37-a10b-4c64-ab1e-bac420c3d1cc",
   "metadata": {},
   "source": [
    "## Завдання 2\n",
    "Напишіть програму, яка створює кортеж з трьох елементів, які є рядками, та з'єднує їх в один рядок з комою як роздільником. Примітка: з'єднати рядки також можна за допомогою методу `.joint()`"
   ]
  },
  {
   "cell_type": "code",
   "execution_count": 27,
   "id": "e52ff07f-f5e8-42f1-b286-06cb3dd961bd",
   "metadata": {},
   "outputs": [
    {
     "name": "stdout",
     "output_type": "stream",
     "text": [
      "З'єднаний рядок: Перший рядок, Другий рядок, Третій рядок\n"
     ]
    }
   ],
   "source": [
    "# Створення кортежу з трьох рядків\n",
    "strings_tuple = (\"Перший рядок\", \"Другий рядок\", \"Третій рядок\")\n",
    "\n",
    "# З'єднання рядків з комою як роздільником\n",
    "result = \", \".join(strings_tuple)\n",
    "\n",
    "# Виведення результату\n",
    "print(\"З'єднаний рядок:\", result)\n"
   ]
  },
  {
   "cell_type": "markdown",
   "id": "5978ab58-c39d-4b94-b58f-98e300c478db",
   "metadata": {},
   "source": [
    "### Пояснення коду:\n",
    "Кортеж: Створюється кортеж strings_tuple, що містить три рядки.\n",
    "Метод .join(): Використовується для з'єднання рядків з кортежу в один рядок, при цьому кома і пробіл використовуються як роздільник.\n",
    "Виведення результату: Виводиться з'єднаний рядок."
   ]
  },
  {
   "cell_type": "markdown",
   "id": "7de9828e-3587-42dd-8e37-0e03117cf721",
   "metadata": {},
   "source": [
    "## Завдання 3 "
   ]
  },
  {
   "cell_type": "markdown",
   "id": "886c518d-e2e2-4db9-b172-7c8d5dc2eee4",
   "metadata": {},
   "source": [
    "Створіть словник, який містить інформацію про книги в бібліотеці. Ключами будуть назви книг, а значеннями - автори, рік видання та кількість сторінок. Виведіть на екран інформацію про книгу, введену користувачем."
   ]
  },
  {
   "cell_type": "code",
   "execution_count": 32,
   "id": "ec6e3698-85b6-45e1-9833-454a0ec0906e",
   "metadata": {},
   "outputs": [
    {
     "name": "stdin",
     "output_type": "stream",
     "text": [
      "Введіть назву книги:  1984\n"
     ]
    },
    {
     "name": "stdout",
     "output_type": "stream",
     "text": [
      "Інформація про книгу '1984':\n",
      "Автор: Джордж Орвелл\n",
      "Рік видання: 1949\n",
      "Кількість сторінок: 328\n"
     ]
    }
   ],
   "source": [
    "# Створення словника з інформацією про книги\n",
    "library = {\n",
    "    \"1984\": {\"автор\": \"Джордж Орвелл\", \"рік видання\": 1949, \"кількість сторінок\": 328},\n",
    "    \"Гаррі Поттер і філософський камінь\": {\"автор\": \"Дж.К. Роулінг\", \"рік видання\": 1997, \"кількість сторінок\": 223},\n",
    "    \"Убити пересмішника\": {\"автор\": \"Харпер Лі\", \"рік видання\": 1960, \"кількість сторінок\": 281},\n",
    "    \"Мобі Дік\": {\"автор\": \"Герман Мелвілл\", \"рік видання\": 1851, \"кількість сторінок\": 635}\n",
    "}\n",
    "\n",
    "# Запит у користувача назви книги\n",
    "book_title = input(\"Введіть назву книги: \")\n",
    "\n",
    "# Перевірка, чи є книга в бібліотеці\n",
    "if book_title in library:\n",
    "    book_info = library[book_title]\n",
    "    print(f\"Інформація про книгу '{book_title}':\")\n",
    "    print(f\"Автор: {book_info['автор']}\")\n",
    "    print(f\"Рік видання: {book_info['рік видання']}\")\n",
    "    print(f\"Кількість сторінок: {book_info['кількість сторінок']}\")\n",
    "else:\n",
    "    print(\"Книга не знайдена в бібліотеці.\")\n"
   ]
  },
  {
   "cell_type": "markdown",
   "id": "11759c02-a792-44a8-8a6a-f18af1d857d9",
   "metadata": {},
   "source": [
    "### Пояснення коду:\n",
    "Словник library: Створюється словник, де ключами є назви книг, а значеннями — інші словники з інформацією про авторів, рік видання та кількість сторінок.\n",
    "Запит назви книги: Програма запитує у користувача ввести назву книги.\n",
    "Перевірка наявності: Програма перевіряє, чи є введена книга в словнику.\n",
    "Виведення інформації: Якщо книга знайдена, виводиться інформація про неї. Якщо ні, виводиться повідомлення про те, що книга не знайдена."
   ]
  },
  {
   "cell_type": "markdown",
   "id": "620b35d4-2c3b-4677-89b5-eee24b302985",
   "metadata": {},
   "source": [
    "## Сумісна робота зі словниками і кортежами"
   ]
  },
  {
   "cell_type": "markdown",
   "id": "f81bb7ce-514e-4221-b3f5-2887460c0111",
   "metadata": {},
   "source": [
    "## Приклад 1"
   ]
  },
  {
   "cell_type": "markdown",
   "id": "13330b8f-5fa9-4894-af6d-766f092e2e4f",
   "metadata": {},
   "source": [
    "Написати програму, яка веде облік студентів групи, забезпечуючи можливість зберігати ім'я і прізвище студента та його оцінки, і виводить середній бал по предметах."
   ]
  },
  {
   "cell_type": "code",
   "execution_count": 22,
   "id": "5547907a-d6f1-4bcd-b684-5db394ced9c6",
   "metadata": {},
   "outputs": [],
   "source": [
    "# school_class = {}\n",
    "\n",
    "# while True:\n",
    "#     name = input(\"Enter the student's name: \")\n",
    "#     if name == '':\n",
    "#         break\n",
    "    \n",
    "#     score = int(input(\"Enter the student's score (0-10): \"))\n",
    "#     if score not in range(0, 11):\n",
    "# \t    break\n",
    "    \n",
    "#     if name in school_class:\n",
    "#         school_class[name] += (score,)\n",
    "#     else:\n",
    "#         school_class[name] = (score,)\n",
    "        \n",
    "# for name in sorted(school_class.keys()):\n",
    "#     adding = 0\n",
    "#     counter = 0\n",
    "#     for score in school_class[name]:\n",
    "#         adding += score\n",
    "#         counter += 1\n",
    "#     print(name, \":\", adding / counter)"
   ]
  },
  {
   "cell_type": "markdown",
   "id": "9da383ac-cbba-4dde-9f8b-ea847c81a575",
   "metadata": {},
   "source": [
    "## Завдання 4"
   ]
  },
  {
   "cell_type": "markdown",
   "id": "51720edf-1a76-4211-bbbf-2473fc596876",
   "metadata": {},
   "source": [
    "Напишіть програму, яка створює словник, що містить інформацію про студентів, використовуючи вказані кортежі в якості значень. Кожен ключ -- це прізвище студента. Виведіть на екран інформацію про студента, введеного користувачем."
   ]
  },
  {
   "cell_type": "code",
   "execution_count": 37,
   "id": "7bf8e93e-416e-4115-ae26-0bae7e233be4",
   "metadata": {},
   "outputs": [
    {
     "name": "stdin",
     "output_type": "stream",
     "text": [
      "Введіть прізвище студента:  Петров\n"
     ]
    },
    {
     "name": "stdout",
     "output_type": "stream",
     "text": [
      "Інформація про студента 'Петров':\n",
      "Ім'я: Петро\n",
      "Спеціальність: Математика\n",
      "Рік вступу: 2021\n"
     ]
    }
   ],
   "source": [
    "# Створення словника з інформацією про студентів\n",
    "students = {\n",
    "    \"Іванов\": (\"Іван\", \"Фізика\", 2020),\n",
    "    \"Петров\": (\"Петро\", \"Математика\", 2021),\n",
    "    \"Сидорова\": (\"Олена\", \"Інформатика\", 2019),\n",
    "    \"Коваленко\": (\"Анастасія\", \"Біологія\", 2022)\n",
    "}\n",
    "\n",
    "# Запит у користувача прізвища студента\n",
    "surname = input(\"Введіть прізвище студента: \")\n",
    "\n",
    "# Перевірка, чи є студент в словнику\n",
    "if surname in students:\n",
    "    student_info = students[surname]\n",
    "    print(f\"Інформація про студента '{surname}':\")\n",
    "    print(f\"Ім'я: {student_info[0]}\")\n",
    "    print(f\"Спеціальність: {student_info[1]}\")\n",
    "    print(f\"Рік вступу: {student_info[2]}\")\n",
    "else:\n",
    "    print(\"Студента не знайдено.\")\n"
   ]
  },
  {
   "cell_type": "markdown",
   "id": "19f2d0f4-ff5f-4faa-821b-5f4a3bab7233",
   "metadata": {},
   "source": [
    "### Пояснення коду:\n",
    "Словник students: Створюється словник, де ключами є прізвища студентів, а значеннями — кортежі, що містять ім'я, спеціальність та рік вступу.\n",
    "Запит прізвища: Програма запитує у користувача ввести прізвище студента.\n",
    "Перевірка наявності: Програма перевіряє, чи є введене прізвище в словнику.\n",
    "Виведення інформації: Якщо студент знайдений, програма виводить його інформацію. Якщо ні, виводиться повідомлення про те, що студента не знайдено."
   ]
  },
  {
   "cell_type": "markdown",
   "id": "b81bd440-5785-486e-935a-791bbe28d9ab",
   "metadata": {},
   "source": [
    "## Завдання 5"
   ]
  },
  {
   "cell_type": "markdown",
   "id": "feedc8b8-f806-41cc-9c0e-20094273cb86",
   "metadata": {},
   "source": [
    "Створіть словник, який містить інформацію про більше, ніж один номер телефону для кожного з контактів в телефонній книзі. Ключами будуть імена контактів, а значеннями - список їхніх номерів телефонів. Напишіть функцію, яка дозволяє додати новий номер телефону до списку номерів телефону певного контакту. Потім виведіть на екран список номерів телефонів для всіх контактів."
   ]
  },
  {
   "cell_type": "code",
   "execution_count": 46,
   "id": "0fc7d962-4530-4480-97d7-c6eeea7b6467",
   "metadata": {},
   "outputs": [
    {
     "name": "stdout",
     "output_type": "stream",
     "text": [
      "Список номерів телефонів:\n",
      "Олексій: 123-456-7890, 098-765-4321, 111-222-3333\n",
      "Марія: 555-123-4567\n",
      "Іван: 777-888-9999, 444-333-2222\n",
      "Софія: 555-999-8888\n"
     ]
    }
   ],
   "source": [
    "# Створення словника з інформацією про контакти\n",
    "phone_book = {\n",
    "    \"Олексій\": [\"123-456-7890\", \"098-765-4321\"],\n",
    "    \"Марія\": [\"555-123-4567\"],\n",
    "    \"Іван\": [\"777-888-9999\", \"444-333-2222\"]\n",
    "}\n",
    "\n",
    "def add_phone_number(name, phone_number):\n",
    "    \"\"\"Функція для додавання нового номера телефону до списку контактів.\"\"\"\n",
    "    if name in phone_book:\n",
    "        phone_book[name].append(phone_number)  # Додає новий номер до існуючого списку\n",
    "    else:\n",
    "        phone_book[name] = [phone_number]  # Створює новий запис для нового контакту\n",
    "\n",
    "# Додавання нового номера телефону\n",
    "add_phone_number(\"Олексій\", \"111-222-3333\")\n",
    "add_phone_number(\"Софія\", \"555-999-8888\")\n",
    "\n",
    "# Виведення списку номерів телефонів для всіх контактів\n",
    "print(\"Список номерів телефонів:\")\n",
    "for contact, numbers in phone_book.items():\n",
    "    print(f\"{contact}: {', '.join(numbers)}\")\n"
   ]
  },
  {
   "cell_type": "markdown",
   "id": "d1caa7b2-12ee-4f67-ab78-9b355e53e9b4",
   "metadata": {},
   "source": [
    "### Пояснення коду:\n",
    "Словник phone_book: Створюється словник, де ключами є імена контактів, а значеннями — списки номерів телефонів.\n",
    "Функція add_phone_number:\n",
    "Приймає ім'я контакту та номер телефону.\n",
    "Якщо контакт вже існує, новий номер додається до існуючого списку.\n",
    "Якщо контакту немає, створюється новий запис зі списком, що містить цей номер.\n",
    "Додавання номерів: Викликається функція для додавання нових номерів телефонів до контактів.\n",
    "Виведення: Програма виводить на екран список номерів телефонів для всіх контактів."
   ]
  },
  {
   "cell_type": "markdown",
   "id": "4a3ed71c-ae54-489e-98b2-9869e1341e9e",
   "metadata": {},
   "source": [
    "## Завдання для самостіної роботи\n",
    "\n",
    "1. Виконати завдання 1-5 наведені вище у цьому зошиті.\n",
    "\n",
    "1. Створити файл __lab_7_StudentLastName.py__ з написаним кодом. \n",
    "\n",
    "1. Закомітити файл у локальний репозиторій.\n",
    "\n",
    "1. Відправити (\"запушити\") поточну версію Git-проєкта у віддалений репозиторій на GitHub.\n",
    "\n",
    "1. Звіт має складатися з файлу (за основу взяти __цей Python-зошит__)  `lab_7_StudentLastName.ipynb`. (Можливі якісь додакові файли)"
   ]
  },
  {
   "cell_type": "markdown",
   "id": "0908e6c2-2be6-4101-b844-e8b0a7adbe0d",
   "metadata": {},
   "source": [
    "## Контрольні запитання\n",
    "\n",
    "1. Що виведе наступний код?\n",
    "\n",
    "```\n",
    "my_tuple = (1, 2, 3)\n",
    "print(my_tuple[1:])\n",
    "```\n",
    "\n",
    "2. Що виведе наступний код?\n",
    "```\n",
    "my_dict = {'a': 1, 'b': 2, 'c': 3}\n",
    "print(my_dict.get('d', 4))\n",
    "```\n",
    "\n",
    "3. Що виведе наступний код?\n",
    "```\n",
    "my_tuple = (1, 2, 3)\n",
    "my_tuple[0] = 4\n",
    "print(my_tuple)\n",
    "```\n",
    "\n",
    "4. Що виведе наступний код?\n",
    "```\n",
    "my_dict = {'a': 1, 'b': 2, 'c': 3}\n",
    "my_dict.update({'d': 4})\n",
    "print(my_dict)\n",
    "```\n"
   ]
  },
  {
   "cell_type": "markdown",
   "id": "1492fa45-8419-468c-8b00-8529bc3cacef",
   "metadata": {},
   "source": [
    "## Відповіді на контрольні питання"
   ]
  },
  {
   "cell_type": "code",
   "execution_count": 51,
   "id": "da545052-1abb-442c-bace-46fbfe33b266",
   "metadata": {},
   "outputs": [
    {
     "name": "stdout",
     "output_type": "stream",
     "text": [
      "(2, 3)\n"
     ]
    }
   ],
   "source": [
    "my_tuple = (1, 2, 3)\n",
    "print(my_tuple[1:])\n"
   ]
  },
  {
   "cell_type": "markdown",
   "id": "6ba27386-23e8-422c-a7c3-a2630f55b75c",
   "metadata": {},
   "source": [
    "Пояснення: my_tuple[1:] повертає всі елементи кортежу, починаючи з індексу 1 до кінця."
   ]
  },
  {
   "cell_type": "code",
   "execution_count": 53,
   "id": "c18b287d-300f-406c-9931-4b04b5e1cd5f",
   "metadata": {},
   "outputs": [
    {
     "name": "stdout",
     "output_type": "stream",
     "text": [
      "4\n"
     ]
    }
   ],
   "source": [
    "my_dict = {'a': 1, 'b': 2, 'c': 3}\n",
    "print(my_dict.get('d', 4))\n"
   ]
  },
  {
   "cell_type": "markdown",
   "id": "2ce5dc1a-71e9-4d8a-a63b-50c64da00680",
   "metadata": {},
   "source": [
    "Пояснення: Метод .get() повертає значення за ключем 'd', якого немає в словнику, тому повертається значення за замовчуванням, яке дорівнює 4."
   ]
  },
  {
   "cell_type": "code",
   "execution_count": 55,
   "id": "ae8cfa46-3062-4aa1-8758-7fcc679cad84",
   "metadata": {},
   "outputs": [
    {
     "ename": "TypeError",
     "evalue": "'tuple' object does not support item assignment",
     "output_type": "error",
     "traceback": [
      "\u001b[1;31m---------------------------------------------------------------------------\u001b[0m",
      "\u001b[1;31mTypeError\u001b[0m                                 Traceback (most recent call last)",
      "Cell \u001b[1;32mIn[55], line 2\u001b[0m\n\u001b[0;32m      1\u001b[0m my_tuple \u001b[38;5;241m=\u001b[39m (\u001b[38;5;241m1\u001b[39m, \u001b[38;5;241m2\u001b[39m, \u001b[38;5;241m3\u001b[39m)\n\u001b[1;32m----> 2\u001b[0m my_tuple[\u001b[38;5;241m0\u001b[39m] \u001b[38;5;241m=\u001b[39m \u001b[38;5;241m4\u001b[39m\n\u001b[0;32m      3\u001b[0m \u001b[38;5;28mprint\u001b[39m(my_tuple)\n",
      "\u001b[1;31mTypeError\u001b[0m: 'tuple' object does not support item assignment"
     ]
    }
   ],
   "source": [
    "my_tuple = (1, 2, 3)\n",
    "my_tuple[0] = 4\n",
    "print(my_tuple)\n"
   ]
  },
  {
   "cell_type": "markdown",
   "id": "4c5b8985-757c-4fe3-b215-28a9ae053c28",
   "metadata": {},
   "source": [
    "Пояснення: Кортежі є незмінними (immutable), тому не можна змінювати їх елементи після створення."
   ]
  },
  {
   "cell_type": "code",
   "execution_count": 57,
   "id": "2003bc1e-038d-4b80-9dc1-1274f741aeae",
   "metadata": {},
   "outputs": [
    {
     "name": "stdout",
     "output_type": "stream",
     "text": [
      "{'a': 1, 'b': 2, 'c': 3, 'd': 4}\n"
     ]
    }
   ],
   "source": [
    "my_dict = {'a': 1, 'b': 2, 'c': 3}\n",
    "my_dict.update({'d': 4})\n",
    "print(my_dict)\n"
   ]
  },
  {
   "cell_type": "markdown",
   "id": "78e66883-4f5d-4609-8a08-6bce0aaadba0",
   "metadata": {},
   "source": [
    "Пояснення: Метод .update() додає новий ключ 'd' зі значенням 4 до існуючого словника."
   ]
  },
  {
   "cell_type": "markdown",
   "id": "6f245697-3b9e-4ff9-8b49-61c292cde2d2",
   "metadata": {},
   "source": [
    "## References"
   ]
  },
  {
   "cell_type": "markdown",
   "id": "7db7d9e6-058d-429f-9f9b-85819efc7f33",
   "metadata": {},
   "source": [
    "1. **[Anaconda (Python distribution)](https://uk.wikipedia.org/wiki/Anaconda_(Python_distribution))**\n",
    "2. **[Conda](https://conda.io/en/latest/)**\n",
    "3. **[Pro Git Book](https://git-scm.com/book/en/v2)**\n",
    "4. **[OpenEDG Python Institute](https://pythoninstitute.org/)**\n",
    "5. **[Cisco. Networking Academy](https://www.netacad.com/)**\n",
    "6. **[Научно-издательская система Quarto](https://data-visualization-blog.netlify.app/posts/quarto/)**\n",
    "7. **[Codecademy - Learn Python](https://www.codecademy.com/learn/learn-python-3)**\n",
    "8. **[Coursera - Python for Everybody](https://www.coursera.org/specializations/python)**\n",
    "9. **[edX - Introduction to Computer Science and Programming Using Python](https://www.edx.org/course/introduction-to-computer-science-and-programming-using-python)**\n",
    "10. **[Real Python](https://realpython.com/)**\n",
    "11. **[LeetCode](https://leetcode.com/)**\n",
    "12. **[W3Schools - Python Tutorial](https://www.w3schools.com/python/)**\n",
    "13. **[Kaggle - Python Course](https://www.kaggle.com/learn/python)**\n",
    "14. **[Python.org](https://docs.python.org/3/tutorial/index.html)**\n"
   ]
  }
 ],
 "metadata": {
  "kernelspec": {
   "display_name": "Python 3 (ipykernel)",
   "language": "python",
   "name": "python3"
  },
  "language_info": {
   "codemirror_mode": {
    "name": "ipython",
    "version": 3
   },
   "file_extension": ".py",
   "mimetype": "text/x-python",
   "name": "python",
   "nbconvert_exporter": "python",
   "pygments_lexer": "ipython3",
   "version": "3.12.4"
  }
 },
 "nbformat": 4,
 "nbformat_minor": 5
}
