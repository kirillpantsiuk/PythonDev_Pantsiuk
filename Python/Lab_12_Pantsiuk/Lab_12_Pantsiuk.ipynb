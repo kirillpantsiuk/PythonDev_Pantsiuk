{
 "cells": [
  {
   "attachments": {},
   "cell_type": "markdown",
   "id": "57b9ef6a-c3c9-445c-a24a-054b7806e05b",
   "metadata": {},
   "source": [
    "---\n",
    "title: \"Лабораторна робота №12. Об’єктно-орієнтоване програмування. Частина ІІ\"\n",
    "description:\n",
    "  Документ зроблено за допомогою [Quarto](https://quarto.org/)\n",
    "author: \"&copy; [<span style='color: blue;'>Pantsiuk Kyrylo </span>](https://github.com/kirillpantsiuk), 2024\"\n",
    "date: \"11.18.2024\"\n",
    "format:\n",
    "  html:\n",
    "    toc: true                  # Включаем оглавление\n",
    "    toc-title: \"Table of contents\"  # Название меню\n",
    "    toc-depth: 2               # Глубина уровней заголовков (2 уровня в данном случае)\n",
    "    toc-location: right         # Расположение меню (слева)\n",
    "---"
   ]
  },
  {
   "cell_type": "markdown",
   "id": "97eb2c4c-d1a6-4ee8-8204-3152f99d1ad9",
   "metadata": {},
   "source": [
    "__Мета:__ _навчитися програмувати в стилі об'єектно-орієнтованого програмування._"
   ]
  },
  {
   "cell_type": "markdown",
   "id": "52f120a7-ccf9-4122-8c47-1f6645be2f55",
   "metadata": {},
   "source": [
    "::: callout-note\n",
    "## Примітка\n",
    "У лабораторній роботі використано матеріали [python institute.](https://pythoninstitute.org/pcep)\n",
    ":::"
   ]
  },
  {
   "cell_type": "markdown",
   "id": "b664eb21-2267-47f4-b209-ccd36647f935",
   "metadata": {
    "tags": []
   },
   "source": [
    "## Що ви будете вміти?\n",
    "* створювати класи та об'єкти у Python;\n",
    "* реалізувати механізми інкапсуляції та наслідування;\n",
    "* визначати та використовувати змінні екземпляра;\n",
    "* визначати та використовувати методи;\n",
    "* використовувати композицію."
   ]
  },
  {
   "cell_type": "markdown",
   "id": "9f770552-289c-46c4-bcd4-afd1def2437f",
   "metadata": {},
   "source": [
    "## Основи об'єктно-орієнтованого програмування на Python. Метод __str()__"
   ]
  },
  {
   "cell_type": "markdown",
   "id": "8a16315a-ca73-4d1f-850d-981cb59b851c",
   "metadata": {},
   "source": [
    "::: callout-important\n",
    "## Важливо\n",
    "\n",
    "Перед виконанням лабораторної роботи потрібно опрауювати матеріал лекції 13.\n",
    ":::"
   ]
  },
  {
   "cell_type": "markdown",
   "id": "7b72fc2c-2f65-45eb-adf7-f2b0863354f7",
   "metadata": {},
   "source": [
    "## Приклад 1\n",
    "\n",
    "Нам потрібен клас, що вміє рахувати секунди. Чи легко? Це не так просто, як Ви думаєте, оскільки ми матимемо певні вимоги.\n",
    "\n",
    "Прочитайте їх уважно, оскільки клас, який Ви пишете, використовуватиметься для запуску ракет, які виконують міжнародні місії на Марс. Це велика відповідальність. Ми розраховуємо на Вас!\n",
    "\n",
    "Ваш клас буде називатися `Timer`. Його конструктор приймає три аргументи, що представляють годинник (значення з діапазону [0..23] - ми будемо використовувати воєнний час), хвилини (з діапазону [0..59]) та секунди (з діапазону [0..59]).\n",
    "\n",
    "Нуль -- це значення за замовчанням всіх вищеперелічених параметрів. Немає необхідності виконувати будь-які перевірки.\n",
    "\n",
    "Сам клас має забезпечувати такі можливості:\n",
    "\n",
    "* об'єкти класу повинні бути \"друкованими\", тобто вони повинні мати можливість неявно перетворювати себе на рядки наступного виду: \"чч:мм:сс\" з додаванням провідних нулів, коли будь-яке з значень менше 10;\n",
    "* клас повинен бути оснащений методами без параметрів, званими next_second() і previous_second(), що збільшують час, що зберігається всередині об'єктів, на +1/-1 секунд відповідно.\n",
    "\n",
    "Використовуйте такі підказки:\n",
    "\n",
    "* всі властивості об'єкта мають бути закритими;\n",
    "* розгляньте можливість написання окремої функції (не методу!) для форматування рядка часу.\n",
    "\n",
    "Доповніть шаблон, який ми надали в редакторі. Запустіть свій код і перевірте, чи виглядає результат так само, як наш."
   ]
  },
  {
   "cell_type": "markdown",
   "id": "24693983-ad70-4f1f-af39-0b9c427ff303",
   "metadata": {},
   "source": [
    "Очікуваний вивід:  \n",
    "\n",
    "`23:59:59`  \n",
    "`00:00:00`  \n",
    "`23:59:59  `  "
   ]
  },
  {
   "cell_type": "code",
   "execution_count": 8,
   "id": "0b476650-fd5c-47d4-b924-4c7e53656863",
   "metadata": {},
   "outputs": [
    {
     "name": "stdout",
     "output_type": "stream",
     "text": [
      "23:59:59\n",
      "00:00:00\n",
      "23:59:59\n"
     ]
    }
   ],
   "source": [
    "class Timer:\n",
    "    def __init__(self, hours=0, minutes=0, seconds=0):\n",
    "        # Ініціалізація значень годин, хвилин і секунд\n",
    "        self._hours = hours\n",
    "        self._minutes = minutes\n",
    "        self._seconds = seconds\n",
    "\n",
    "    def __str__(self):\n",
    "        # Повертає строкове представлення часу у форматі чч:мм:сс\n",
    "        return f\"{self._format_time(self._hours)}:{self._format_time(self._minutes)}:{self._format_time(self._seconds)}\"\n",
    "\n",
    "    def _format_time(self, time):\n",
    "        # Допоміжна функція для додавання провідних нулів\n",
    "        return str(time).zfill(2)\n",
    "\n",
    "    def next_second(self):\n",
    "        # Збільшує час на одну секунду\n",
    "        self._seconds += 1\n",
    "        if self._seconds == 60:\n",
    "            self._seconds = 0\n",
    "            self._minutes += 1\n",
    "            if self._minutes == 60:\n",
    "                self._minutes = 0\n",
    "                self._hours += 1\n",
    "                if self._hours == 24:\n",
    "                    self._hours = 0\n",
    "\n",
    "    def prev_second(self):\n",
    "        # Зменшує час на одну секунду\n",
    "        self._seconds -= 1\n",
    "        if self._seconds == -1:\n",
    "            self._seconds = 59\n",
    "            self._minutes -= 1\n",
    "            if self._minutes == -1:\n",
    "                self._minutes = 59\n",
    "                self._hours -= 1\n",
    "                if self._hours == -1:\n",
    "                    self._hours = 23\n",
    "\n",
    "\n",
    "# Приклад використання\n",
    "timer = Timer(23, 59, 59)\n",
    "print(timer)  # 23:59:59\n",
    "timer.next_second()\n",
    "print(timer)  # 00:00:00\n",
    "timer.prev_second()\n",
    "print(timer)  # 23:59:59\n"
   ]
  },
  {
   "cell_type": "code",
   "execution_count": 4,
   "id": "f26ea2e9-abf4-4502-96d6-7331cfe49f47",
   "metadata": {},
   "outputs": [
    {
     "name": "stdout",
     "output_type": "stream",
     "text": [
      "23:59:59\n",
      "00:00:00\n",
      "23:59:59\n"
     ]
    }
   ],
   "source": [
    "class Timer:\n",
    "    def __init__(self, hours=0, minutes=0, seconds=0):\n",
    "        self._hours = hours\n",
    "        self._minutes = minutes\n",
    "        self._seconds = seconds\n",
    "\n",
    "    def __str__(self):\n",
    "        return f\"{self._format_time(self._hours)}:{self._format_time(self._minutes)}:{self._format_time(self._seconds)}\"\n",
    "\n",
    "    def _format_time(self, time):\n",
    "        return str(time).zfill(2)\n",
    "\n",
    "    def next_second(self):\n",
    "        self._seconds += 1\n",
    "        if self._seconds == 60:\n",
    "            self._seconds = 0\n",
    "            self._minutes += 1\n",
    "            if self._minutes == 60:\n",
    "                self._minutes = 0\n",
    "                self._hours += 1\n",
    "                if self._hours == 24:\n",
    "                    self._hours = 0\n",
    "\n",
    "    def prev_second(self):\n",
    "        self._seconds -= 1\n",
    "        if self._seconds == -1:\n",
    "            self._seconds = 59\n",
    "            self._minutes -= 1\n",
    "            if self._minutes == -1:\n",
    "                self._minutes = 59\n",
    "                self._hours -= 1\n",
    "                if self._hours == -1:\n",
    "                    self._hours = 23\n",
    "\n",
    "\n",
    "timer = Timer(23, 59, 59)\n",
    "print(timer)\n",
    "timer.next_second()\n",
    "print(timer)\n",
    "timer.prev_second()\n",
    "print(timer)"
   ]
  },
  {
   "cell_type": "markdown",
   "id": "7ad22ba3-0eb9-494b-b95c-bef6585ffe53",
   "metadata": {},
   "source": [
    "## Приклад 2\n",
    "\n",
    "Ваше завдання – реалізувати клас під назвою `Weeker`. Так, Ваші очі не обманюють Вас -- ця назва походить від того факту, що об'єкти цього класу можуть зберігати та керувати днями тижня.\n",
    "\n",
    "Конструктор класу приймає один аргумент – рядок. Рядок є назвою дня тижня, і єдині допустимі значення повинні надходити з наступного набору:\n",
    "\n",
    "`Mon Tue Wed Thu Fri Sat Sun`\n",
    "\n",
    "Виклик конструктора з аргументом ззовні цього набору повинен викликати виняток `WeekDayError` (визначте його самостійно; не турбуйтеся, скоро ми поговоримо про об'єктивну природу винятків). Клас повинен надати такі можливості:\n",
    "\n",
    "об'єкти класу мають бути \"друкованими\", тобто. вони повинні мати можливість неявно перетворювати себе на рядки тієї ж форми, що й аргументи конструктора;\n",
    "клас повинен бути оснащений однопараметричними методами з іменами `add_days(n)` і `subtract_days(n)`, де __n__ є цілим числом число та оновлення дня тижня, що зберігається всередині об'єкта, таким чином, щоб відобразити зміну дати на вказану кількість днів уперед або назад.\n",
    "всі властивості об'єкта мають бути прихованими;\n",
    "Заповніть шаблон, який ми надали в редакторі, запустіть свій код і перевірте, чи виглядає Ваш результат так само, як наш.\n",
    "\n",
    "Очікуваний вивід: \n",
    "\n",
    "`Mon`  \n",
    "`Thu`  \n",
    "`Sun`  \n",
    "`Sorry, I can't serve your request.  `\n"
   ]
  },
  {
   "cell_type": "code",
   "execution_count": 13,
   "id": "045f06d8-8ec2-457e-9563-64ea9173442f",
   "metadata": {},
   "outputs": [
    {
     "name": "stdout",
     "output_type": "stream",
     "text": [
      "Mon\n",
      "Tue\n",
      "Sun\n",
      "Sorry, I can't serve your request.\n"
     ]
    }
   ],
   "source": [
    "class WeekDayError(Exception):\n",
    "    pass\n",
    "\n",
    "class Weeker:\n",
    "    WEEKDAYS = ['Mon', 'Tue', 'Wed', 'Thu', 'Fri', 'Sat', 'Sun']\n",
    "    \n",
    "    def __init__(self, day):\n",
    "        if day not in Weeker.WEEKDAYS:\n",
    "            raise WeekDayError\n",
    "        self._day = day\n",
    "\n",
    "    def __str__(self):\n",
    "        return self._day\n",
    "\n",
    "    def add_days(self, n):\n",
    "        current_index = Weeker.WEEKDAYS.index(self._day)\n",
    "        new_index = (current_index + n) % 7  # Оновлюємо індекс дня тижня\n",
    "        self._day = Weeker.WEEKDAYS[new_index]\n",
    "\n",
    "    def subtract_days(self, n):\n",
    "        current_index = Weeker.WEEKDAYS.index(self._day)\n",
    "        new_index = (current_index - n) % 7  # Оновлюємо індекс дня тижня\n",
    "        self._day = Weeker.WEEKDAYS[new_index]\n",
    "\n",
    "\n",
    "# Приклад використання\n",
    "try:\n",
    "    weekday = Weeker('Mon')\n",
    "    print(weekday)  # Mon\n",
    "    weekday.add_days(15)\n",
    "    print(weekday)  # Thu\n",
    "    weekday.subtract_days(23)\n",
    "    print(weekday)  # Sun\n",
    "    weekday = Weeker('Monday')  # Викликає WeekDayError\n",
    "except WeekDayError:\n",
    "    print(\"Sorry, I can't serve your request.\")\n"
   ]
  },
  {
   "cell_type": "code",
   "execution_count": 6,
   "id": "6d396df2-2e5d-4355-9843-3cff5d4de9c1",
   "metadata": {},
   "outputs": [
    {
     "name": "stdout",
     "output_type": "stream",
     "text": [
      "Mon\n",
      "Tue\n",
      "Sun\n",
      "Sorry, I can't serve your request.\n"
     ]
    }
   ],
   "source": [
    "class WeekDayError(Exception):\n",
    "    pass\n",
    "\n",
    "\n",
    "class Weeker:\n",
    "    DAYS = ['Mon', 'Tue', 'Wed', 'Thu', 'Fri', 'Sat', 'Sun']\n",
    "\n",
    "    def __init__(self, day):\n",
    "        if day not in self.DAYS:\n",
    "            raise WeekDayError\n",
    "        self._day = day\n",
    "\n",
    "    def __str__(self):\n",
    "        return self._day\n",
    "\n",
    "    def add_days(self, n):\n",
    "        current_index = self.DAYS.index(self._day)\n",
    "        new_index = (current_index + n) % 7\n",
    "        self._day = self.DAYS[new_index]\n",
    "\n",
    "    def subtract_days(self, n):\n",
    "        current_index = self.DAYS.index(self._day)\n",
    "        new_index = (current_index - n) % 7\n",
    "        self._day = self.DAYS[new_index]\n",
    "\n",
    "\n",
    "try:\n",
    "    weekday = Weeker('Mon')\n",
    "    print(weekday)\n",
    "    weekday.add_days(15)\n",
    "    print(weekday)\n",
    "    weekday.subtract_days(23)\n",
    "    print(weekday)\n",
    "    weekday = Weeker('Monday')\n",
    "except WeekDayError:\n",
    "    print(\"Sorry, I can't serve your request.\")"
   ]
  },
  {
   "cell_type": "markdown",
   "id": "7e3e8e9b-1f6a-4390-a113-f607be2ef963",
   "metadata": {},
   "source": [
    "## Приклад 3\n",
    "Давайте відвідаємо зовсім особливе місце – площину з декартовою системою координат (Ви можете дізнатися більше про цю концепцію тут: [Декартова система координат)](https://uk.wikipedia.org/wiki/%D0%94%D0%B5%D0%BA%D0%B0%D1%80%D1%82%D0%BE%D0%B2%D0%B0_%D1%81%D0%B8%D1%81%D1%82%D0%B5%D0%BC%D0%B0_%D0%BA%D0%BE%D0%BE%D1%80%D0%B4%D0%B8%D0%BD%D0%B0%D1%82).\n",
    "\n",
    "Кожну точку, розташовану на площині, можна описати як пару координат, яку зазвичай називають $x$ і $y$. Ми хочемо, щоб Ви написали клас Python, який зберігає обидві координати як числа з плаваючою комою. Більше того, ми хочемо, щоб об'єкти цього класу вважали відстані між будь-якою з двох точок, розташованих на площині.\n",
    "\n",
    "Завдання досить просте, якщо Ви скористаєтеся функцією з ім'ям `hypot()` (доступна в модулі `math`), яка вважає довжину гіпотенузи прямокутного трикутника (докладніше тут: [Гіпотенуза](https://uk.wikipedia.org/wiki/%D0%93%D1%96%D0%BF%D0%BE%D1%82%D0%B5%D0%BD%D1%83%D0%B7%D0%B0)) і тут: [Trigonometric functions](https://docs.python.org/3.7/library/math.html#trigonometric-functions).\n",
    "\n",
    "Ось як ми уявляємо собі клас:\n",
    "\n",
    "* він називається `Point`;\n",
    "* його конструктор приймає два аргументи (x і y відповідно), обидва з яких за умовчанням дорівнюють нулю;\n",
    "* всі властивості мають бути прихованими;\n",
    "* клас містить два методи без параметрів, названі `getx()` та `gety()`, які повертають кожну з двох координат (координати зберігаються приховано, тому вони не можуть бути доступні безпосередньо з об'єкта);\n",
    "* клас надає метод під назвою `distance_from_xy(x, y)`, який обчислює та повертає відстань між точкою, що зберігається всередині об'єкта, та іншою точкою, заданою як пара пунктів;\n",
    "* клас надає метод під назвою `distance_from_point(point)`, який обчислює відстань (як у попередньому методі), але місце розташування іншої точки задається як інший об'єкт класу `Point`;\n",
    "\n",
    "Доповніть шаблон, який ми надали в редакторі, запустіть свій код і перевірте, чи виглядає Ваш результат так само, як наш.\n",
    "\n",
    "Очікуваний вивід: \n",
    "\n",
    "`1.4142135623730951`  \n",
    "`1.4142135623730951`"
   ]
  },
  {
   "cell_type": "code",
   "execution_count": 17,
   "id": "88584ea7-2b0c-4bca-83a9-2fb2b91beb39",
   "metadata": {},
   "outputs": [
    {
     "name": "stdout",
     "output_type": "stream",
     "text": [
      "1.4142135623730951\n",
      "1.4142135623730951\n"
     ]
    }
   ],
   "source": [
    "import math\n",
    "\n",
    "class Point:\n",
    "    def __init__(self, x=0.0, y=0.0):\n",
    "        self._x = x\n",
    "        self._y = y\n",
    "\n",
    "    def getx(self):\n",
    "        return self._x\n",
    "\n",
    "    def gety(self):\n",
    "        return self._y\n",
    "\n",
    "    def distance_from_xy(self, x, y):\n",
    "        return math.hypot(self._x - x, self._y - y)\n",
    "\n",
    "    def distance_from_point(self, point):\n",
    "        return math.hypot(self._x - point.getx(), self._y - point.gety())\n",
    "\n",
    "# Приклад використання:\n",
    "point1 = Point(0, 0)\n",
    "point2 = Point(1, 1)\n",
    "\n",
    "# Обчислення відстані між point1 і point2\n",
    "print(point1.distance_from_point(point2))  # 1.4142135623730951\n",
    "\n",
    "# Обчислення відстані між point2 і точкою (2, 0)\n",
    "print(point2.distance_from_xy(2, 0))  # 1.4142135623730951\n"
   ]
  },
  {
   "cell_type": "code",
   "execution_count": 10,
   "id": "28b0fc00-eb3c-4cde-91fb-d10464a14958",
   "metadata": {},
   "outputs": [
    {
     "name": "stdout",
     "output_type": "stream",
     "text": [
      "1.4142135623730951\n",
      "1.4142135623730951\n"
     ]
    }
   ],
   "source": [
    "import math\n",
    "\n",
    "\n",
    "class Point:\n",
    "    def __init__(self, x=0.0, y=0.0):\n",
    "        self._x = x\n",
    "        self._y = y\n",
    "\n",
    "    def getx(self):\n",
    "        return self._x\n",
    "\n",
    "    def gety(self):\n",
    "        return self._y\n",
    "\n",
    "    def distance_from_xy(self, x, y):\n",
    "        return math.hypot(self._x - x, self._y - y)\n",
    "\n",
    "    def distance_from_point(self, point):\n",
    "        return self.distance_from_xy(point.getx(), point.gety())\n",
    "\n",
    "\n",
    "point1 = Point(0, 0)\n",
    "point2 = Point(1, 1)\n",
    "print(point1.distance_from_point(point2))\n",
    "print(point2.distance_from_xy(2, 0))"
   ]
  },
  {
   "cell_type": "markdown",
   "id": "5b0c8283-6927-45c7-8949-872c6c011b2c",
   "metadata": {},
   "source": [
    "## Використання композиції"
   ]
  },
  {
   "cell_type": "markdown",
   "id": "11183c02-d695-41be-b2b2-afb7f0d604f6",
   "metadata": {},
   "source": [
    "## Завдання 1"
   ]
  },
  {
   "cell_type": "markdown",
   "id": "44c08a12-794d-40c5-99bb-719f8b64fb95",
   "metadata": {},
   "source": [
    "Тепер ми збираємося вбудувати клас `Point` (див. попереднє завдання) в інший клас. Крім того, ми збираємося помістити три точки в один клас, що дозволить нам визначити трикутник. Як ми можемо це зробити?\n",
    "\n",
    "Новий клас буде називатися `Triangle`, і ось, що нам потрібно:\n",
    "\n",
    "* конструктор приймає три аргументи -- вони є об'єктами класу `Point`;\n",
    "* точки зберігаються всередині об'єкта як список;\n",
    "* клас надає метод без параметрів з назвою `perimeter()`, який обчислює периметр трикутника, описаного трьома точками; периметр – це сума довжин усіх сторін (це просто нагадування, хоча ми впевнені, що Ви самі це чудово знаєте).\n",
    "\n",
    "Доповніть шаблон, який ми надали в редакторі. Запустіть свій код і перевірте, чи збігається оцінюваний периметр з нашим.\n",
    "\n",
    "Нижче Ви можете скопіювати код класу `Point`, який ми використовували у попередній лабораторній роботі:"
   ]
  },
  {
   "cell_type": "code",
   "execution_count": 12,
   "id": "67afb5a5-1540-40b3-8ca3-dbbfe4a56971",
   "metadata": {},
   "outputs": [],
   "source": [
    "class Point:\n",
    "    def __init__(self, x=0.0, y=0.0):\n",
    "        self.__x = x\n",
    "        self.__y = y"
   ]
  },
  {
   "cell_type": "markdown",
   "id": "97ea2072-f744-496a-8834-9914d0d8dff9",
   "metadata": {},
   "source": [
    "Очікуваний вивод:  \n",
    "\n",
    "`3.414213562373095`\n"
   ]
  },
  {
   "cell_type": "code",
   "execution_count": 22,
   "id": "af23447b-21cc-4c5b-afc0-916f0dd8fe5d",
   "metadata": {},
   "outputs": [
    {
     "name": "stdout",
     "output_type": "stream",
     "text": [
      "3.414213562373095\n"
     ]
    }
   ],
   "source": [
    "import math\n",
    "\n",
    "class Point:\n",
    "    def __init__(self, x=0.0, y=0.0):\n",
    "        self.__x = x\n",
    "        self.__y = y\n",
    "\n",
    "    def getx(self):\n",
    "        return self.__x\n",
    "\n",
    "    def gety(self):\n",
    "        return self.__y\n",
    "\n",
    "    def distance_from_point(self, point):\n",
    "        return math.hypot(self.__x - point.getx(), self.__y - point.gety())\n",
    "\n",
    "class Triangle:\n",
    "    def __init__(self, vertice1, vertice2, vertice3):\n",
    "        self.vertices = [vertice1, vertice2, vertice3]\n",
    "\n",
    "    def perimeter(self):\n",
    "        a = self.vertices[0].distance_from_point(self.vertices[1])\n",
    "        b = self.vertices[1].distance_from_point(self.vertices[2])\n",
    "        c = self.vertices[2].distance_from_point(self.vertices[0])\n",
    "        return a + b + c\n",
    "\n",
    "# Приклад використання:\n",
    "triangle = Triangle(Point(0, 0), Point(1, 0), Point(0, 1))\n",
    "print(triangle.perimeter())  # 3.414213562373095\n"
   ]
  },
  {
   "cell_type": "code",
   "execution_count": 26,
   "id": "8772fe95-d9c5-4350-9e2e-79db3d53f4ae",
   "metadata": {},
   "outputs": [
    {
     "name": "stdout",
     "output_type": "stream",
     "text": [
      "3.414213562373095\n"
     ]
    }
   ],
   "source": [
    "import math\n",
    "\n",
    "class Point:\n",
    "    def __init__(self, x=0.0, y=0.0):\n",
    "        self.__x = x\n",
    "        self.__y = y\n",
    "\n",
    "    def getx(self):\n",
    "        return self.__x\n",
    "\n",
    "    def gety(self):\n",
    "        return self.__y\n",
    "\n",
    "    def distance_from_point(self, point):\n",
    "        return math.hypot(self.__x - point.getx(), self.__y - point.gety())\n",
    "\n",
    "class Triangle:\n",
    "    def __init__(self, vertice1, vertice2, vertice3):\n",
    "        self.vertices = [vertice1, vertice2, vertice3]\n",
    "\n",
    "    def perimeter(self):\n",
    "        a = self.vertices[0].distance_from_point(self.vertices[1])\n",
    "        b = self.vertices[1].distance_from_point(self.vertices[2])\n",
    "        c = self.vertices[2].distance_from_point(self.vertices[0])\n",
    "        return a + b + c\n",
    "\n",
    "# Приклад використання:\n",
    "triangle = Triangle(Point(0, 0), Point(1, 0), Point(0, 1))\n",
    "print(triangle.perimeter())  # 3.414213562373095\n"
   ]
  },
  {
   "cell_type": "markdown",
   "id": "ba082670-368c-49bb-aa41-838d64ccafa4",
   "metadata": {},
   "source": [
    "Цей код включає клас `Poin`t з попереднього завдання, а також додає клас `Triangle`, який містить конструктор для приймання трьох вершин трикутника і метод `perimeter`, що обчислює периметр трикутника, використовуючи відстані між вершинами."
   ]
  },
  {
   "cell_type": "markdown",
   "id": "29674873-e67e-447b-ba68-abc8d2383a4c",
   "metadata": {},
   "source": [
    "## Завдання для самостіної роботи\n",
    "\n",
    "1. Виконати приклади 1-3 і завдання 1, наведені вище у цьому зошиті.\n",
    "\n",
    "1. Створити файл __lab_12_StudentLastName.py__ з написаним кодом. \n",
    "\n",
    "1. Закомітити файл у локальний репозиторій.\n",
    "\n",
    "1. Відправити (\"запушити\") поточну версію Git-проєкта у віддалений репозиторій на GitHub.\n",
    "\n",
    "1. Звіт має складатися з файлу (за основу взяти __цей Python-зошит__)  `lab_12_StudentLastName.ipynb`. (Можливі якісь додакові файли)"
   ]
  },
  {
   "cell_type": "markdown",
   "id": "fa5682d2-0c2d-46e6-83c8-a4080fa66663",
   "metadata": {},
   "source": [
    "## Контрольні запитання\n",
    "\n",
    "Припустимо, що наступний фрагмент коду успішно виконано:"
   ]
  },
  {
   "cell_type": "code",
   "execution_count": 16,
   "id": "b323bc7d-1a42-4ab0-b234-c45a122ab454",
   "metadata": {},
   "outputs": [],
   "source": [
    "class Dog: \n",
    "    kennel = 0 \n",
    "    def __init__(self, breed): \n",
    "        self.breed = breed \n",
    "        Dog.kennel += 1 \n",
    "\n",
    "    def __str__(self): \n",
    "        return self.breed + \" says: Woof!\" \n",
    "\n",
    "\n",
    "class SheepDog(Dog): \n",
    "    def __str__(self): \n",
    "        return super().__str__() + \" Don't run away, Little Lamb!\" \n",
    "\n",
    "\n",
    "class GuardDog(Dog): \n",
    "     def __str__(self): \n",
    "         return super().__str__() + \" Stay where you are, Mister Intruder!\" \n",
    "\n",
    "rocky = SheepDog(\"Collie\") \n",
    "luna = GuardDog(\"Dobermann\") "
   ]
  },
  {
   "cell_type": "markdown",
   "id": "e09fcd9b-6577-4896-bf8c-78c272d46035",
   "metadata": {},
   "source": [
    "1. Який очікуваний вивід наступного фрагмента коду?\n",
    "\n",
    "`print(rocky)` \n",
    "`print(luna)`"
   ]
  },
  {
   "cell_type": "markdown",
   "id": "e89cc6e3-513d-4ca9-9ab6-2db2311b336b",
   "metadata": {},
   "source": [
    "Виведення цього фрагмента коду буде таким:\n",
    "\n",
    "```\n",
    "Collie says: Woof! Don't run away, Little Lamb!\n",
    "Dobermann says: Woof! Stay where you are, Mister Intruder!\n",
    "```\n",
    "\n",
    "### Пояснення:\n",
    "1. **Клас `Dog`** має метод `__str__`, який повертає рядок, що містить породу собаки і текст `\" says: Woof!\"`.\n",
    "2. **Клас `SheepDog`** наслідується від класу `Dog` і переопреділяє метод `__str__`. Він викликає метод `__str__` батьківського класу за допомогою `super()`, додаючи до результату текст `\" Don't run away, Little Lamb!\"`.\n",
    "3. **Клас `GuardDog`** також наслідується від `Dog` і переопреділяє метод `__str__`, викликаючи метод `__str__` батьківського класу і додаючи до результату текст `\" Stay where you are, Mister Intruder!\"`.\n",
    "\n",
    "При виклику `print(rocky)` і `print(luna)` будуть виведені рядки з додатковими повідомленнями відповідно до визначення методів `__str__` у класах-нащадках."
   ]
  },
  {
   "cell_type": "markdown",
   "id": "1e171728-31db-43cb-8a13-b46a606cd1ab",
   "metadata": {},
   "source": [
    "2. Який очікуваний вивід наступного фрагмента коду?\n",
    "\n",
    "`print(issubclass(SheepDog, Dog), issubclass(SheepDog, GuardDog))`   \n",
    "`print(isinstance(rocky, GuardDog), isinstance(luna, GuardDog))`"
   ]
  },
  {
   "cell_type": "markdown",
   "id": "a57a5849-69b1-4cbb-8739-3720a15e0c50",
   "metadata": {},
   "source": [
    "Очікуваний вивід наступного фрагмента коду:\n",
    "\n",
    "```\n",
    "True False\n",
    "False True\n",
    "```\n",
    "\n",
    "### Пояснення:\n",
    "\n",
    "1. **`issubclass(SheepDog, Dog)`**: \n",
    "   - Метод `issubclass` перевіряє, чи є клас `SheepDog` нащадком класу `Dog`. Оскільки `SheepDog` наслідується від `Dog`, цей виклик повертає `True`.\n",
    "\n",
    "2. **`issubclass(SheepDog, GuardDog)`**:\n",
    "   - Перевіряється, чи є клас `SheepDog` нащадком класу `GuardDog`. Оскільки `SheepDog` не наслідується від `GuardDog`, цей виклик повертає `False`.\n",
    "\n",
    "3. **`isinstance(rocky, GuardDog)`**:\n",
    "   - Метод `isinstance` перевіряє, чи є об'єкт `rocky` екземпляром класу `GuardDog`. Оскільки `rocky` є екземпляром класу `SheepDog`, а не `GuardDog`, цей виклик повертає `False`.\n",
    "\n",
    "4. **`isinstance(luna, GuardDog)`**:\n",
    "   - Оскільки `luna` є екземпляром класу `GuardDog`, виклик `isinstance(luna, GuardDog)` повертає `True`."
   ]
  },
  {
   "cell_type": "markdown",
   "id": "c99be45b-146e-4112-b097-7c38046b4703",
   "metadata": {},
   "source": [
    "## References"
   ]
  },
  {
   "cell_type": "markdown",
   "id": "13ad003f-2d5e-44b3-8b09-d3ab89647e11",
   "metadata": {},
   "source": [
    "1. [Anaconda (Python distribution)](https://uk.wikipedia.org/wiki/Anaconda_(Python_distribution))  \n",
    "1. [Conda](https://conda.io/en/latest/)  \n",
    "1. [Pro Git Book](https://git-scm.com/book/en/v2)  \n",
    "1. [OpenEDG Python Institute](https://pythoninstitute.org/)  \n",
    "1. [Cisco. Networking Academy](https://www.netacad.com/)  \n",
    "1. [Научно-издательская система Quarto](https://data-visualization-blog.netlify.app/posts/quarto/)\n",
    "1. [The Python Standard Library](https://docs.python.org/3/library/index.html)\n",
    "1. [Callout Blocks. Markdown Syntax](https://quarto.org/docs/authoring/callouts.html)  \n",
    "1. [5. Built-in Exceptions](https://docs.python.org/3.6/library/exceptions.html)\n",
    "1. [Принцип єдиної відповідальності](https://uk.wikipedia.org/wiki/%D0%9F%D1%80%D0%B8%D0%BD%D1%86%D0%B8%D0%BF_%D1%94%D0%B4%D0%B8%D0%BD%D0%BE%D1%97_%D0%B2%D1%96%D0%B4%D0%BF%D0%BE%D0%B2%D1%96%D0%B4%D0%B0%D0%BB%D1%8C%D0%BD%D0%BE%D1%81%D1%82%D1%96)\n"
   ]
  }
 ],
 "metadata": {
  "kernelspec": {
   "display_name": "Python 3 (ipykernel)",
   "language": "python",
   "name": "python3"
  },
  "language_info": {
   "codemirror_mode": {
    "name": "ipython",
    "version": 3
   },
   "file_extension": ".py",
   "mimetype": "text/x-python",
   "name": "python",
   "nbconvert_exporter": "python",
   "pygments_lexer": "ipython3",
   "version": "3.12.4"
  }
 },
 "nbformat": 4,
 "nbformat_minor": 5
}
