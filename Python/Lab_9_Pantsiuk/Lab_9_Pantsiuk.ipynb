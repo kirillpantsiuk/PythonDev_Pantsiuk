{
 "cells": [
  {
   "attachments": {},
   "cell_type": "markdown",
   "id": "d9c34fff-8dc9-4ccb-99f8-b58304b11c01",
   "metadata": {},
   "source": [
    "---\n",
    "title: \"Лабораторна робота №9. Рядки. Методи рядків і списків. Частина І\"\n",
    "description:\n",
    "  Документ зроблено за допомогою [Quarto](https://quarto.org/)\n",
    "author: \"&copy; [<span style='color: blue;'>Pantsiuk Kyrylo </span>](https://github.com/kirillpantsiuk), 2024\"\n",
    "date: \"11.06.2024\"\n",
    "format:\n",
    "  html:\n",
    "    toc: true                  # Включаем оглавление\n",
    "    toc-title: \"Table of contents\"  # Название меню\n",
    "    toc-depth: 2               # Глубина уровней заголовков (2 уровня в данном случае)\n",
    "    toc-location: right         # Расположение меню (слева)\n",
    "---"
   ]
  },
  {
   "cell_type": "markdown",
   "id": "dc06ba02-5ff1-435a-a230-b869b0511e81",
   "metadata": {},
   "source": [
    "::: callout-tip\n",
    "## Примітка\n",
    "У лабораторній роботі використано матеріали [python institute.](https://pythoninstitute.org/pcep)\n",
    ":::"
   ]
  },
  {
   "cell_type": "markdown",
   "id": "2217758d-2639-4dbb-9b0c-ba6d4997329a",
   "metadata": {},
   "source": [
    "::: callout-tip\n",
    "## Примітка\n",
    "Попередньо потрібно опрацювати лекцію 10.\n",
    ":::"
   ]
  },
  {
   "cell_type": "markdown",
   "id": "bc76da2a-1c4f-4708-ac85-e61aa5d8554c",
   "metadata": {
    "tags": []
   },
   "source": [
    "#### Що ви будете вміти?\n",
    "* обробляти рядки за допомогою спеціальних функцій і методів Python;\n",
    "* сумісно обробляти рядки і списки."
   ]
  },
  {
   "cell_type": "markdown",
   "id": "79f3975f-77db-46d1-9ea1-f35a53a0866f",
   "metadata": {},
   "source": [
    "## Основні методи та функції для обробки рядків"
   ]
  },
  {
   "cell_type": "markdown",
   "id": "fb26ec7e-0bd0-444e-91d0-6d534f34b295",
   "metadata": {},
   "source": [
    "## Основні методи для обробки рядків"
   ]
  },
  {
   "cell_type": "markdown",
   "id": "607d1856-4831-47eb-9cae-db69aceacba8",
   "metadata": {},
   "source": [
    "* `capitalize()` – замінює всі мали букви на великі;\n",
    "* `center()` – центрує рядок всередині поля відомої довжини;\n",
    "* `count()` – рахує кількість входжень даного символу в рядку;\n",
    "* `join()` – з'єднує всі елементи кортежу/списку в один рядок;\n",
    "* `lower()` – перетворює всі літери рядка на малі;\n",
    "* `lstrip()` – видаляє білі символи з початку рядка;\n",
    "* `replace()` – замінює задану підрядок іншим;\n",
    "* `rfind()` – знаходить підрядок, пошук починається з кінця рядка;\n",
    "* `rstrip()` – видаляє білі символи з кінця рядка;\n",
    "* `split()` – розбиває рядок на підрядки з використанням заданого роздільника;\n",
    "* `strip()` – видаляє білі символи з початку і кінця рядка;\n",
    "* `swapcase()` – змінює регістр літер на протилежний (малі на великі і навпаки);\n",
    "* `title()` – робить першу літеру в кожному слові великою;\n",
    "* `upper()` – перетворює всі літери рядка на великі.\n"
   ]
  },
  {
   "cell_type": "markdown",
   "id": "ef24d397-d1ec-4c9e-b733-f0ce5b1f82b0",
   "metadata": {},
   "source": [
    "## Аналіз вмісту рядків "
   ]
  },
  {
   "cell_type": "markdown",
   "id": "fbe5bfdd-87eb-457f-b53a-e6d4c60e8778",
   "metadata": {},
   "source": [
    "Содержимое строки можна визначити за допомогою наступних методів (вони повертають логічні значення):\n",
    "\n",
    "* `endswith()` - закінчується рядок заданою підстрокою?\n",
    "* `isalnum()` - складається рядок лише з букв і цифр?\n",
    "* `isalpha()` - складається рядок лише з букв?\n",
    "* `islower()` - складається рядок лише з малих літер?\n",
    "* `isspace()` - складається рядок лише з пробільних символів?\n",
    "* `isupper()` - складається рядок лише з великих літер?\n",
    "* `startswith()` - починається рядок з даної підстроки?"
   ]
  },
  {
   "cell_type": "markdown",
   "id": "5c68266c-f629-4556-bd00-d6e40d6942f4",
   "metadata": {},
   "source": [
    "::: callout-tip\n",
    "## Важливо!\n",
    "\n",
    "Не всі методи можуть змінювати рядок \"на місці\", декотрі створюють копію.\n",
    ":::"
   ]
  },
  {
   "cell_type": "markdown",
   "id": "7d334206-ec68-4a1c-8c31-6ee80b631187",
   "metadata": {},
   "source": [
    "## Приклад 1\n",
    "\n",
    "Написати власну функцію, яка працює практично так само, як оригінальний метод `split()`, а саме:\n",
    "\n",
    "* вона повинна приймати рівно один аргумент - рядок;\n",
    "* вона повинна повертати список слів, які можна створити з даного рядка, розділивши його пробілами;\n",
    "* якщо рядок порожній, функція повинна повертати порожній список;\n",
    "* ім'я функції `mysplit()`.\n",
    "* Використовуйте шаблон у редакторі. Добре протестуйте свій код. "
   ]
  },
  {
   "cell_type": "code",
   "execution_count": 4,
   "id": "3b8a792d-5c48-4fca-b7e7-7e21a352508f",
   "metadata": {},
   "outputs": [
    {
     "name": "stdout",
     "output_type": "stream",
     "text": [
      "['To', 'be', 'or', 'not', 'to', 'be,', 'that', 'is', 'the', 'question']\n",
      "['To', 'be', 'or', 'not', 'to', 'be,that', 'is', 'the', 'question']\n",
      "[]\n",
      "['abc']\n",
      "[]\n"
     ]
    }
   ],
   "source": [
    "def mysplit(string):\n",
    "    list_split = []\n",
    "    word = \"\"\n",
    "    for char in string:\n",
    "        if char == \" \":\n",
    "            if word:  # Додає слово в список, якщо воно непорожнє\n",
    "                list_split.append(word)\n",
    "            word = \"\"  # Очищує слово для накопичення наступного\n",
    "        else:\n",
    "            word += char  # Додає символ до поточного слова\n",
    "    if word:  # Додає останнє слово в список, якщо воно є\n",
    "        list_split.append(word)\n",
    "    return list_split\n",
    "\n",
    "# Тестування функції\n",
    "print(mysplit(\"To be or not to be, that is the question\"))\n",
    "print(mysplit(\"To be or not to be,that is the question\"))\n",
    "print(mysplit(\"   \"))\n",
    "print(mysplit(\" abc \"))\n",
    "print(mysplit(\"\"))\n"
   ]
  },
  {
   "cell_type": "markdown",
   "id": "826dacb8-db26-42ab-a89e-9f2eaa328e85",
   "metadata": {},
   "source": [
    "## Очікуваний вивод "
   ]
  },
  {
   "cell_type": "markdown",
   "id": "3c86b0e3-9a05-438d-a2a5-970959590afe",
   "metadata": {},
   "source": [
    "`['To', 'be', 'or', 'not', 'to', 'be,', 'that', 'is', 'the', 'question']`  \n",
    "`['To', 'be', 'or', 'not', 'to', 'be,that', 'is', 'the', 'question']`  \n",
    "`[]`  \n",
    "`['abc']`  \n",
    "`[]`  "
   ]
  },
  {
   "attachments": {
    "21250a7b-b676-4693-a88d-f94c6c6b1af3.png": {
     "image/png": "[encoded data removed]"
    }
   },
   "cell_type": "markdown",
   "id": "2abb2e4e-952b-4fd1-82c7-f4ee596dfc31",
   "metadata": {},
   "source": [
    "## Приклад 2\n",
    "\n",
    "Ви, дійсно, бачили семисегментний дисплей.\n",
    "\n",
    "Це пристрій (іноді електронний, іноді механічний), який призначений для відображення однієї десяткової цифри за допомогою підмножини з семи сегментів. Якщо ви все ще не знаєте, що це таке, зверніться до статті у Вікіпедії.\n",
    "\n",
    "Ваше завдання - написати програму, яка здатна імітувати роботу пристрою з семисегментним дисплеєм, хоча краще все ж таки використовувати окремі світлодіоди замість сегментів.\n",
    "\n",
    "Кожна цифра складається з 13 світлодіодів (деякі горять, деякі вимкнені) -- ось як ми це уявляємо:\n",
    "\n",
    "![_Цифри у семисегментному поданні_](attachment:21250a7b-b676-4693-a88d-f94c6c6b1af3.png)\n",
    "\n",
    "Примітка: цифра 8 показує всі світлодіоди, які включені.\n",
    "\n",
    "Ваш код повинен відображати будь-яке невід'ємне ціле число, введене користувачем.\n",
    "\n",
    "::: callout-note\n",
    "## Порада\n",
    "Використання списку з десятьма цифрами може бути дуже корисним.\n",
    ":::"
   ]
  },
  {
   "cell_type": "code",
   "execution_count": 9,
   "id": "d24c26d3-c230-4a4d-83f4-968916be970b",
   "metadata": {},
   "outputs": [
    {
     "name": "stdin",
     "output_type": "stream",
     "text": [
      "Введіть невід'ємне ціле число:  13\n"
     ]
    },
    {
     "name": "stdout",
     "output_type": "stream",
     "text": [
      "     _  \n",
      "  |  _| \n",
      "  |  _| \n"
     ]
    }
   ],
   "source": [
    "# Шаблони для цифр від 0 до 9 на семисегментному дисплеї\n",
    "digits = [\n",
    "    [\" _ \", \"| |\", \"|_|\"],  # 0\n",
    "    [\"   \", \"  |\", \"  |\"],  # 1\n",
    "    [\" _ \", \" _|\", \"|_ \"],  # 2\n",
    "    [\" _ \", \" _|\", \" _|\"],  # 3\n",
    "    [\"   \", \"|_|\", \"  |\"],  # 4\n",
    "    [\" _ \", \"|_ \", \" _|\"],  # 5\n",
    "    [\" _ \", \"|_ \", \"|_|\"],  # 6\n",
    "    [\" _ \", \"  |\", \"  |\"],  # 7\n",
    "    [\" _ \", \"|_|\", \"|_|\"],  # 8\n",
    "    [\" _ \", \"|_|\", \" _|\"]   # 9\n",
    "]\n",
    "\n",
    "def display_number(number):\n",
    "    # Перетворимо число на рядок для обробки кожної цифри окремо\n",
    "    str_number = str(number)\n",
    "    \n",
    "    # Порожній список для кожного рядка семисегментного відображення\n",
    "    rows = [\"\", \"\", \"\"]\n",
    "    \n",
    "    # Додаємо кожну цифру до рядків\n",
    "    for digit in str_number:\n",
    "        d = int(digit)\n",
    "        rows[0] += digits[d][0] + \" \"\n",
    "        rows[1] += digits[d][1] + \" \"\n",
    "        rows[2] += digits[d][2] + \" \"\n",
    "    \n",
    "    # Виведемо результат\n",
    "    for row in rows:\n",
    "        print(row)\n",
    "\n",
    "# Тестування функції\n",
    "user_input = input(\"Введіть невід'ємне ціле число: \")\n",
    "display_number(user_input)\n"
   ]
  },
  {
   "cell_type": "markdown",
   "id": "20aabf82-ce55-45e4-9522-c3f803aab125",
   "metadata": {},
   "source": [
    "_Пояснення роботи коду_\n",
    "\n",
    "1. Шаблони цифр: digits зберігає кожну цифру у вигляді списку з трьох рядків, які імітують світлодіоди.\n",
    "2. Функція display_number:\n",
    "Перетворює введене число на рядок.\n",
    "Проходить по кожній цифрі та формує рядки для трьох рівнів дисплея.\n",
    "3. Вивід: Виводить число на трьох рядках, де кожен сегмент створює вигляд семисегментного дисплея."
   ]
  },
  {
   "cell_type": "markdown",
   "id": "848051bc-f91f-49df-9add-2940e27fb207",
   "metadata": {},
   "source": [
    "## Тестові данні"
   ]
  },
  {
   "attachments": {
    "f9ecb923-3c00-4ead-b62d-89448f061641.png": {
     "image/png": "[encoded data removed]"
    }
   },
   "cell_type": "markdown",
   "id": "59642aba-7501-4261-833e-99a95e4372be",
   "metadata": {},
   "source": [
    "Приклад вводу:  \n",
    "\n",
    "`123`  \n",
    "\n",
    "Приклад виводу:  \n",
    "\n",
    "![image.png](attachment:f9ecb923-3c00-4ead-b62d-89448f061641.png)"
   ]
  },
  {
   "cell_type": "markdown",
   "id": "f8ef7c31-c6e1-47f9-bc25-3f153df769a4",
   "metadata": {},
   "source": [
    "## Приклад 3\n",
    "[__Шифр Цезаря__](https://uk.wikipedia.org/wiki/Шифр_Цезаря)\n",
    "\n",
    "Цей шифр був (мабуть) винайдений і використаний Гаєм Юлієм Цезарем та його військами під час Галльських війн. Ідея досить проста - кожна буква повідомлення замінюється на найближчу наступну (_A_ стає _B_, _B_ стає _C_ тощо). Єдиним виключенням є буква _Z_, яка стає _A_.\n",
    "\n",
    "Напишіть __програму для шифрування поввідомлення__, використовуючи такі припущення:\n",
    "\n",
    "* вона приймає лише латинські літери (примітка: римляни не використовували пробіли, ні цифри);\n",
    "* всі літери повідомлення знаходяться у верхньому регістрі (примітка: римляни знали лише великі літери)."
   ]
  },
  {
   "cell_type": "code",
   "execution_count": 17,
   "id": "71b4036d-2e51-4c36-811b-b3aae20990f5",
   "metadata": {},
   "outputs": [
    {
     "name": "stdin",
     "output_type": "stream",
     "text": [
      "Введіть повідомлення для шифрування (латинські великі літери):  ILOVEYOU\n"
     ]
    },
    {
     "name": "stdout",
     "output_type": "stream",
     "text": [
      "Зашифроване повідомлення: JMPWFZPV\n"
     ]
    }
   ],
   "source": [
    "def caesar_cipher(text):\n",
    "    encrypted_text = \"\"\n",
    "    for char in text:\n",
    "        # Зміщуємо букви, не торкаючись пробілів або символів поза алфавітом\n",
    "        if char == 'Z':\n",
    "            encrypted_text += 'A'  # Z стає A\n",
    "        else:\n",
    "            encrypted_text += chr(ord(char) + 1)  # Зміщуємо літеру на 1 вперед\n",
    "    return encrypted_text\n",
    "\n",
    "# Тестування шифру Цезаря\n",
    "message = input(\"Введіть повідомлення для шифрування (латинські великі літери): \")\n",
    "print(\"Зашифроване повідомлення:\", caesar_cipher(message))\n"
   ]
  },
  {
   "cell_type": "markdown",
   "id": "5a0c731c-ac20-40ec-bee9-9cb7fd383efe",
   "metadata": {},
   "source": [
    "## Приклад 4\n",
    "\n",
    "Напишить __програму для дешифрування повідомлення__, зашифрованого шифром Цезара."
   ]
  },
  {
   "cell_type": "code",
   "execution_count": 3,
   "id": "64477c05-8dbd-470c-b136-7eb96848b944",
   "metadata": {},
   "outputs": [
    {
     "name": "stdin",
     "output_type": "stream",
     "text": [
      "Enter your cryptogram:  JMPWFZPV\n"
     ]
    },
    {
     "name": "stdout",
     "output_type": "stream",
     "text": [
      "ILOVEYOU\n"
     ]
    }
   ],
   "source": [
    "# Тут має бути Ваш код\n",
    "# Caesar cipher - decrypting a message.\n",
    "cipher = input('Enter your cryptogram: ')\n",
    "text = ''\n",
    "for char in cipher:\n",
    "    if not char.isalpha():\n",
    "        continue\n",
    "    char = char.upper()\n",
    "    code = ord(char) - 1\n",
    "    if code < ord('A'):\n",
    "        code = ord('Z')\n",
    "    text += chr(code)\n",
    "\n",
    "print(text)"
   ]
  },
  {
   "cell_type": "markdown",
   "id": "2c8a9073-32da-4e37-ae3c-8814ba6635b1",
   "metadata": {},
   "source": [
    "## Завдання 1"
   ]
  },
  {
   "cell_type": "markdown",
   "id": "54b4de19-4074-444a-b794-ced326ddd90e",
   "metadata": {},
   "source": [
    "Ви вже знайомі з шифром Цезаря, і тому ми хочемо, щоб Ви покращили код, який ми нещодавно показували.\n",
    "\n",
    "Вихідний шифр Цезаря зрушує кожен символ однією: a стає b, z стає a, тощо. Давайте зробимо його трохи складнішим і дозволимо зміщеному значенню вийти з діапазону 1-25 включно.\n",
    "\n",
    "Крім того, нехай код зберігає регістр літер (малі літери залишаться малими), а всі неалфавітні символи повинні залишитися без змін.\n",
    "\n",
    "Ваше завдання - написати програму, яка:\n",
    "\n",
    "запитує у користувача рядок, який треба зашифрувати;\n",
    "запитує користувача значення зсуву (ціле число з діапазону 1-25 - примітка: Ви повинні змусити користувача ввести дійсне значення зсуву (не здавайтеся і не дозволяйте некоректним даним обдурити Вас);\n",
    "друкує закодований текст.\n",
    "Протестуйте свій код, використовуючи надані нами дані."
   ]
  },
  {
   "cell_type": "code",
   "execution_count": null,
   "id": "68f2795e-adfd-4049-8eb4-b5b815108ea0",
   "metadata": {},
   "outputs": [],
   "source": [
    "def caesar_cipher(text, shift):\n",
    "    # Створюємо список для збереження зашифрованого тексту\n",
    "    encrypted_text = []\n",
    "    \n",
    "    # Перебираємо кожен символ у введеному тексті\n",
    "    for char in text:\n",
    "        # Перевіряємо, чи є символ літерою\n",
    "        if char.isalpha():\n",
    "            # Визначаємо базовий символ для коректної роботи з регістром\n",
    "            base = ord('a') if char.islower() else ord('A')\n",
    "            # Обчислюємо новий символ з урахуванням зсуву\n",
    "            encrypted_char = chr(base + (ord(char) - base + shift) % 26)\n",
    "            encrypted_text.append(encrypted_char)\n",
    "        else:\n",
    "            # Якщо символ не є літерою, додаємо його без змін\n",
    "            encrypted_text.append(char)\n",
    "    \n",
    "    # Перетворюємо список символів у рядок і повертаємо його\n",
    "    return ''.join(encrypted_text)\n",
    "\n",
    "def get_shift():\n",
    "    # Запитуємо у користувача зсув\n",
    "    while True:\n",
    "        try:\n",
    "            shift = int(input(\"Введіть зсув (ціле число від 1 до 25): \"))\n",
    "            if 1 <= shift <= 25:\n",
    "                return shift\n",
    "            else:\n",
    "                print(\"Будь ласка, введіть число в діапазоні від 1 до 25.\")\n",
    "        except ValueError:\n",
    "            print(\"Будь ласка, введіть ціле число.\")\n",
    "\n",
    "def main():\n",
    "    # Запитуємо рядок для шифрування\n",
    "    text = input(\"Введіть текст для шифрування: \")\n",
    "    \n",
    "    # Перевірка введеного тексту\n",
    "    print(f\"Введений текст: {text}\")\n",
    "    \n",
    "    # Отримуємо зсув\n",
    "    shift = get_shift()\n",
    "    \n",
    "    # Шифруємо текст і виводимо результат\n",
    "    encrypted_text = caesar_cipher(text, shift)\n",
    "    print(f\"Зашифрований текст: {encrypted_text}\")\n",
    "\n",
    "# Викликаємо головну функцію\n",
    "if __name__ == \"__main__\":\n",
    "    main()\n"
   ]
  },
  {
   "attachments": {
    "9b564ab3-6b61-4b54-b170-907d55a6d793.png": {
     "image/png": "[encoded data removed]"
    }
   },
   "cell_type": "markdown",
   "id": "418593dd-ad59-48c8-ab7b-74eb6b508fb8",
   "metadata": {},
   "source": [
    "![Снимок экрана 2024-11-06 132138.png](attachment:9b564ab3-6b61-4b54-b170-907d55a6d793.png)"
   ]
  },
  {
   "cell_type": "markdown",
   "id": "5c369440-8698-459b-9f98-1c0fcba49d71",
   "metadata": {},
   "source": [
    "## Завдання для самостіної роботи\n",
    "\n",
    "1. Виконати приклади 1-4 і завдання 1, наведені вище у цьому зошиті.\n",
    "\n",
    "1. Створити файл __lab_9_StudentLastName.py__ з написаним кодом. \n",
    "\n",
    "1. Закомітити файл у локальний репозиторій.\n",
    "\n",
    "1. Відправити (\"запушити\") поточну версію Git-проєкта у віддалений репозиторій на GitHub.\n",
    "\n",
    "1. Звіт має складатися з файлу (за основу взяти __цей Python-зошит__)  `lab_9_StudentLastName.ipynb`. (Можливі якісь додакові файли)"
   ]
  },
  {
   "attachments": {
    "1e0fc363-b077-4e50-931b-e568c036908e.png": {
     "image/png": "[encoded data removed]"
    },
    "5dae1388-0b17-4710-af73-eb6d2a6c113c.png": {
     "image/png": "[encoded data removed]"
    },
    "ffeff26d-8f6e-4581-9d0d-9b1f63daa4ec.png": {
     "image/png": "[encoded data removed]"
    }
   },
   "cell_type": "markdown",
   "id": "94f07137-5cee-478f-af25-1876bd61e692",
   "metadata": {},
   "source": [
    "## Контрольні запитання\n",
    "\n",
    "1. Який із наступних рядків описує справжню умову?\n",
    "\n",
    "![](attachment:5dae1388-0b17-4710-af73-eb6d2a6c113c.png)\n",
    "\n",
    "\n",
    "1. Який очікуваний результат наступного коду?\n",
    "\n",
    "![](attachment:ffeff26d-8f6e-4581-9d0d-9b1f63daa4ec.png)\n",
    "\n",
    "\n",
    "1. Який очікуваний результат наступного коду?\n",
    "\n",
    "![](attachment:1e0fc363-b077-4e50-931b-e568c036908e.png)"
   ]
  },
  {
   "cell_type": "markdown",
   "id": "82962790-63a0-482f-b82d-afe91dcecb8a",
   "metadata": {},
   "source": [
    "## Відповіді на контрольні питання\n",
    "У Python порівняння рядків здійснюється на основі лексикографічного порядку (схоже на алфавітний порядок, але враховує ASCII значення символів). Розглянемо кожен рядок:\r\n",
    "\r\n",
    "1. **`print('smith' > 'Smith')  # False`**:\r\n",
    "   - Рядок `'smith'` не більше за `'Smith'`, тому що у Python великі літери мають менші ASCII значення, ніж малі. `'s'` (ASCII 115) більше за `'S'` (ASCII 83), тому це вірно.\r\n",
    "   - Виведе `True`, а не `False`.\r\n",
    "\r\n",
    "2. **`print('Smiths' < 'Smith')  # False`**:\r\n",
    "   - `'Smiths'` не менше за `'Smith'`, тому що в рядку `'Smiths'` є додатковий символ `'s'`, який вважається більшим, ніж кінець рядка `'Smith'`.\r\n",
    "   - Виведе `False`, що є правильним.\r\n",
    "\r\n",
    "3. **`print('Smith' > '1000')  # True`**:\r\n",
    "   - Порівняння рядків у Python базується на лексикографічному порядку. У цьому випадку рядок `'Smith'` (починається з `'S'`) буде більшим за `'1000'`, тому що символ `'S'` має більший ASCII код (83) порівняно з цифрою `'1'` (ASCII 49).\r\n",
    "   - Виведе `True`, що є правильним.\r\n",
    "\r\n",
    "4. **`print('11' < '8')  # False`**:\r\n",
    "   - Лексикографічно рядок `'11'` менший за рядок `'8'`, оскільки перший символ `'1'` має менший ASCII код (49) порівняно з `'8'` (ASCII 56).\r\n",
    "   - Виведе `True`, а не `False`.\r\n",
    "\r\n",
    "Таким чином, правильні висновки:\r\n",
    "- Перше порівняння має бути `True`, а не `False`.\r\n",
    "- Друге порівняння правильне.\r\n",
    "- Третє порівняння правильне.\r\n",
    "- Четверте порівняння має вивести `True`, а не `False`.\r\n",
    "\r\n",
    "Таким чином, жоден з рядків не є повністю к\n",
    "оректним за коментарями."
   ]
  },
  {
   "cell_type": "markdown",
   "id": "bebf1e95-3f18-41d2-b5b5-83a2462a1c4b",
   "metadata": {},
   "source": [
    "Розберемо код по кроках:\n",
    "\n",
    "1. **`s1 = 'Where are the snows of yesteryear?'`**:\n",
    "   - Ось рядок `s1`, який містить текст: `'Where are the snows of yesteryear?'`.\n",
    "\n",
    "2. **`s2 = s1.split()`**:\n",
    "   - Метод `split()` розділяє рядок `s1` за пробілами (за умовчанням) і повертає список слів. Результат буде такий:\n",
    "     ```python\n",
    "     s2 = ['Where', 'are', 'the', 'snows', 'of', 'yesteryear?']\n",
    "     ```\n",
    "\n",
    "3. **`s3 = sorted(s2)`**:\n",
    "   - Метод `sorted()` сортує список за лексикографічним порядком. Для цього кожне слово в списку буде порівнюватися на основі його першої літери. Порівняння буде здійснюватися без урахування регістру літер, оскільки Python сортує рядки так, що великі літери йдуть перед малими.\n",
    "   - Список `s2` після сортування:\n",
    "     ```python\n",
    "     s3 = ['Where', 'are', 'of', 'snows', 'the', 'yesteryear?']\n",
    "     ```\n",
    "     Лексикографічно перше слово буде `'Where'`, друге — `'are'`, і так далі.\n",
    "\n",
    "4. **`print(s3[1])`**:\n",
    "   - Ми виводимо другий елемент списку `s3` (враховуючи, що індексація починається з 0). Тому `s3[1]` буде `'are'`.\n",
    "\n",
    "### Очікуваний результат:\n",
    "```\n",
    "are\n",
    "```"
   ]
  },
  {
   "cell_type": "markdown",
   "id": "2cb416fd-91d7-4ce9-94a4-9343c79c7605",
   "metadata": {},
   "source": [
    "Розглянемо, що відбувається в коді:\n",
    "\n",
    "1. **`s1 = '12.8'`**:\n",
    "   - Ось рядок `s1`, який містить значення `'12.8'`.\n",
    "\n",
    "2. **`i = int(s1)`**:\n",
    "   - Метод `int()` намагається перетворити рядок на ціле число. Однак, рядок `'12.8'` містить десяткову частину, і спроба перетворити його в ціле число викличе помилку (ValueError), оскільки `int()` не може коректно обробляти числа з плаваючою точкою.\n",
    "\n",
    "   В результаті виконання цього рядка код зупиниться і викличе помилку:\n",
    "   ```\n",
    "   ValueError: invalid literal for int() with base 10: '12.8'\n",
    "   ```\n",
    "\n",
    "### Висновок:\n",
    "Очікуваний результат — **помилка** типу `ValueError`. Щоб уникнути цієї помилки, перед використанням `int()` потрібно переконатися, що рядок містить лише ціле число (без десяткової частини)."
   ]
  },
  {
   "cell_type": "markdown",
   "id": "7d41be67-4c3c-420e-9bf4-9ee6eee2328e",
   "metadata": {},
   "source": [
    "## References"
   ]
  },
  {
   "cell_type": "markdown",
   "id": "d33bbaf1-51ce-4009-9c7a-1895499d980b",
   "metadata": {},
   "source": [
    "1. [Anaconda (Python distribution)](https://uk.wikipedia.org/wiki/Anaconda_(Python_distribution))  \n",
    "1. [Conda](https://conda.io/en/latest/)  \n",
    "1. [Pro Git Book](https://git-scm.com/book/en/v2)  \n",
    "1. [OpenEDG Python Institute](https://pythoninstitute.org/)  \n",
    "1. [Cisco. Networking Academy](https://www.netacad.com/)  \n",
    "1. [Научно-издательская система Quarto](https://data-visualization-blog.netlify.app/posts/quarto/)\n",
    "1. [The Python Standard Library](https://docs.python.org/3/library/index.html)\n",
    "1. [Callout Blocks. Markdown Syntax](https://quarto.org/docs/authoring/callouts.html)  "
   ]
  }
 ],
 "metadata": {
  "kernelspec": {
   "display_name": "Python 3 (ipykernel)",
   "language": "python",
   "name": "python3"
  },
  "language_info": {
   "codemirror_mode": {
    "name": "ipython",
    "version": 3
   },
   "file_extension": ".py",
   "mimetype": "text/x-python",
   "name": "python",
   "nbconvert_exporter": "python",
   "pygments_lexer": "ipython3",
   "version": "3.12.4"
  }
 },
 "nbformat": 4,
 "nbformat_minor": 5
}
